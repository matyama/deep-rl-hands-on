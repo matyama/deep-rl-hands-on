{
  "nbformat": 4,
  "nbformat_minor": 5,
  "metadata": {
    "accelerator": "GPU",
    "colab": {
      "name": "08_dqn_extensions.ipynb",
      "provenance": []
    },
    "kernelspec": {
      "display_name": "Python 3",
      "language": "python",
      "name": "python3"
    },
    "language_info": {
      "codemirror_mode": {
        "name": "ipython",
        "version": 3
      },
      "file_extension": ".py",
      "mimetype": "text/x-python",
      "name": "python",
      "nbconvert_exporter": "python",
      "pygments_lexer": "ipython3",
      "version": "3.8.5"
    }
  },
  "cells": [
    {
      "cell_type": "markdown",
      "metadata": {
        "id": "gorgeous-volume"
      },
      "source": [
        "# Stocks Trading Using RL\n",
        "<table align=\"left\">\n",
        "  <td>\n",
        "    <a target=\"_blank\" href=\"https://colab.research.google.com/github/matyama/deep-rl-hands-on/blob/main/10_rl_trading.ipynb\">\n",
        "    <img src=\"https://www.tensorflow.org/images/colab_logo_32px.png\" />\n",
        "        Run in Google Colab\n",
        "    </a>\n",
        "  </td>\n",
        "</table>"
      ],
      "id": "gorgeous-volume"
    },
    {
      "cell_type": "code",
      "metadata": {
        "id": "little-japanese",
        "colab": {
          "base_uri": "https://localhost:8080/"
        },
        "outputId": "1551e6ca-f827-4e98-b953-067a67a7fbd2"
      },
      "source": [
        "%%bash\n",
        "!(stat -t /usr/local/lib/*/dist-packages/google/colab > /dev/null 2>&1) && exit\n",
        "\n",
        "echo \"Running on Google Colab, therefore installing dependencies...\"\n",
        "pip install mplfinance ptan>=0.7 pytorch-ignite\n",
        "sudo apt -qq install -y tree"
      ],
      "id": "little-japanese",
      "execution_count": 17,
      "outputs": [
        {
          "output_type": "stream",
          "text": [
            "Running on Google Colab, therefore installing dependencies...\n",
            "tree is already the newest version (1.7.0-5).\n",
            "0 upgraded, 0 newly installed, 0 to remove and 30 not upgraded.\n"
          ],
          "name": "stdout"
        },
        {
          "output_type": "stream",
          "text": [
            "\n",
            "WARNING: apt does not have a stable CLI interface. Use with caution in scripts.\n",
            "\n"
          ],
          "name": "stderr"
        }
      ]
    },
    {
      "cell_type": "markdown",
      "metadata": {
        "id": "charged-solid"
      },
      "source": [
        "## Download & Explore Data\n",
        "Yandex stocks from years 2015 and 2016. Each row (*bar*) contains following columns:\n",
        "1. Date\n",
        "1. Time - each row contains information of one minute\n",
        "1. Open - price at the start of that minute\n",
        "1. High - maximum price within that minute\n",
        "1. Low - minimum price within that minute\n",
        "1. Close - price at the end of that minute\n",
        "1. Volume - typically the amount of stock traded within that minute\n",
        "\n",
        "We'll use 2015 for testing and 2016 for training."
      ],
      "id": "charged-solid"
    },
    {
      "cell_type": "code",
      "metadata": {
        "id": "indonesian-executive",
        "colab": {
          "base_uri": "https://localhost:8080/"
        },
        "outputId": "57998052-6c8c-4e09-878a-35591bf67828"
      },
      "source": [
        "%%bash\n",
        "wget -q -O /tmp/stocks.tgz \"https://bit.ly/2QDs9Rp\"\n",
        "mkdir -p data/stocks\n",
        "tar -xzf /tmp/stocks.tgz -C data/stocks\n",
        "tree -P *.csv data/stocks"
      ],
      "id": "indonesian-executive",
      "execution_count": 2,
      "outputs": [
        {
          "output_type": "stream",
          "text": [
            "data/stocks\n",
            "├── YNDX_150101_151231.csv\n",
            "└── YNDX_160101_161231.csv\n",
            "\n",
            "0 directories, 2 files\n"
          ],
          "name": "stdout"
        }
      ]
    },
    {
      "cell_type": "code",
      "metadata": {
        "id": "northern-seafood",
        "colab": {
          "base_uri": "https://localhost:8080/",
          "height": 363
        },
        "outputId": "b6cfa4fe-c06c-4282-ae77-c4190cc28ca8"
      },
      "source": [
        "# flake8: noqa: E402,I001\n",
        "\n",
        "import glob\n",
        "import math\n",
        "import os\n",
        "\n",
        "from enum import IntEnum\n",
        "from typing import Any, Dict, Mapping, Optional, Tuple\n",
        "\n",
        "import gym\n",
        "%matplotlib inline\n",
        "import mplfinance as mpf\n",
        "import numpy as np\n",
        "import pandas as pd\n",
        "\n",
        "from gym.utils import seeding\n",
        "from gym.envs.registration import EnvSpec\n",
        "\n",
        "# Load training datasets as Pandas DFs\n",
        "data = pd.read_csv(os.path.join(\"data\", \"stocks\", \"YNDX_160101_161231.csv\"))\n",
        "data.head(10)"
      ],
      "id": "northern-seafood",
      "execution_count": 69,
      "outputs": [
        {
          "output_type": "execute_result",
          "data": {
            "text/html": [
              "<div>\n",
              "<style scoped>\n",
              "    .dataframe tbody tr th:only-of-type {\n",
              "        vertical-align: middle;\n",
              "    }\n",
              "\n",
              "    .dataframe tbody tr th {\n",
              "        vertical-align: top;\n",
              "    }\n",
              "\n",
              "    .dataframe thead th {\n",
              "        text-align: right;\n",
              "    }\n",
              "</style>\n",
              "<table border=\"1\" class=\"dataframe\">\n",
              "  <thead>\n",
              "    <tr style=\"text-align: right;\">\n",
              "      <th></th>\n",
              "      <th>&lt;DATE&gt;</th>\n",
              "      <th>&lt;TIME&gt;</th>\n",
              "      <th>&lt;OPEN&gt;</th>\n",
              "      <th>&lt;HIGH&gt;</th>\n",
              "      <th>&lt;LOW&gt;</th>\n",
              "      <th>&lt;CLOSE&gt;</th>\n",
              "      <th>&lt;VOL&gt;</th>\n",
              "    </tr>\n",
              "  </thead>\n",
              "  <tbody>\n",
              "    <tr>\n",
              "      <th>0</th>\n",
              "      <td>20160104</td>\n",
              "      <td>100100</td>\n",
              "      <td>1148.9</td>\n",
              "      <td>1148.9</td>\n",
              "      <td>1148.9</td>\n",
              "      <td>1148.9</td>\n",
              "      <td>0</td>\n",
              "    </tr>\n",
              "    <tr>\n",
              "      <th>1</th>\n",
              "      <td>20160104</td>\n",
              "      <td>100200</td>\n",
              "      <td>1148.9</td>\n",
              "      <td>1148.9</td>\n",
              "      <td>1148.9</td>\n",
              "      <td>1148.9</td>\n",
              "      <td>50</td>\n",
              "    </tr>\n",
              "    <tr>\n",
              "      <th>2</th>\n",
              "      <td>20160104</td>\n",
              "      <td>100300</td>\n",
              "      <td>1149.0</td>\n",
              "      <td>1149.0</td>\n",
              "      <td>1149.0</td>\n",
              "      <td>1149.0</td>\n",
              "      <td>33</td>\n",
              "    </tr>\n",
              "    <tr>\n",
              "      <th>3</th>\n",
              "      <td>20160104</td>\n",
              "      <td>100400</td>\n",
              "      <td>1149.0</td>\n",
              "      <td>1149.0</td>\n",
              "      <td>1149.0</td>\n",
              "      <td>1149.0</td>\n",
              "      <td>4</td>\n",
              "    </tr>\n",
              "    <tr>\n",
              "      <th>4</th>\n",
              "      <td>20160104</td>\n",
              "      <td>100500</td>\n",
              "      <td>1153.0</td>\n",
              "      <td>1153.0</td>\n",
              "      <td>1153.0</td>\n",
              "      <td>1153.0</td>\n",
              "      <td>0</td>\n",
              "    </tr>\n",
              "    <tr>\n",
              "      <th>5</th>\n",
              "      <td>20160104</td>\n",
              "      <td>100600</td>\n",
              "      <td>1156.9</td>\n",
              "      <td>1157.9</td>\n",
              "      <td>1153.0</td>\n",
              "      <td>1153.0</td>\n",
              "      <td>43</td>\n",
              "    </tr>\n",
              "    <tr>\n",
              "      <th>6</th>\n",
              "      <td>20160104</td>\n",
              "      <td>100700</td>\n",
              "      <td>1150.6</td>\n",
              "      <td>1150.6</td>\n",
              "      <td>1150.4</td>\n",
              "      <td>1150.4</td>\n",
              "      <td>5</td>\n",
              "    </tr>\n",
              "    <tr>\n",
              "      <th>7</th>\n",
              "      <td>20160104</td>\n",
              "      <td>100800</td>\n",
              "      <td>1150.2</td>\n",
              "      <td>1150.2</td>\n",
              "      <td>1150.2</td>\n",
              "      <td>1150.2</td>\n",
              "      <td>4</td>\n",
              "    </tr>\n",
              "    <tr>\n",
              "      <th>8</th>\n",
              "      <td>20160104</td>\n",
              "      <td>100900</td>\n",
              "      <td>1150.5</td>\n",
              "      <td>1150.5</td>\n",
              "      <td>1150.5</td>\n",
              "      <td>1150.5</td>\n",
              "      <td>2</td>\n",
              "    </tr>\n",
              "    <tr>\n",
              "      <th>9</th>\n",
              "      <td>20160104</td>\n",
              "      <td>101000</td>\n",
              "      <td>1150.0</td>\n",
              "      <td>1150.0</td>\n",
              "      <td>1150.0</td>\n",
              "      <td>1150.0</td>\n",
              "      <td>43</td>\n",
              "    </tr>\n",
              "  </tbody>\n",
              "</table>\n",
              "</div>"
            ],
            "text/plain": [
              "     <DATE>  <TIME>  <OPEN>  <HIGH>   <LOW>  <CLOSE>  <VOL>\n",
              "0  20160104  100100  1148.9  1148.9  1148.9   1148.9      0\n",
              "1  20160104  100200  1148.9  1148.9  1148.9   1148.9     50\n",
              "2  20160104  100300  1149.0  1149.0  1149.0   1149.0     33\n",
              "3  20160104  100400  1149.0  1149.0  1149.0   1149.0      4\n",
              "4  20160104  100500  1153.0  1153.0  1153.0   1153.0      0\n",
              "5  20160104  100600  1156.9  1157.9  1153.0   1153.0     43\n",
              "6  20160104  100700  1150.6  1150.6  1150.4   1150.4      5\n",
              "7  20160104  100800  1150.2  1150.2  1150.2   1150.2      4\n",
              "8  20160104  100900  1150.5  1150.5  1150.5   1150.5      2\n",
              "9  20160104  101000  1150.0  1150.0  1150.0   1150.0     43"
            ]
          },
          "metadata": {
            "tags": []
          },
          "execution_count": 69
        }
      ]
    },
    {
      "cell_type": "code",
      "metadata": {
        "id": "about-celebrity",
        "colab": {
          "base_uri": "https://localhost:8080/"
        },
        "outputId": "8e7b3fbc-d0ad-4f96-acb8-a92d7e555ca4"
      },
      "source": [
        "data.info()"
      ],
      "id": "about-celebrity",
      "execution_count": 4,
      "outputs": [
        {
          "output_type": "stream",
          "text": [
            "<class 'pandas.core.frame.DataFrame'>\n",
            "RangeIndex: 131542 entries, 0 to 131541\n",
            "Data columns (total 7 columns):\n",
            " #   Column   Non-Null Count   Dtype  \n",
            "---  ------   --------------   -----  \n",
            " 0   <DATE>   131542 non-null  int64  \n",
            " 1   <TIME>   131542 non-null  int64  \n",
            " 2   <OPEN>   131542 non-null  float64\n",
            " 3   <HIGH>   131542 non-null  float64\n",
            " 4   <LOW>    131542 non-null  float64\n",
            " 5   <CLOSE>  131542 non-null  float64\n",
            " 6   <VOL>    131542 non-null  int64  \n",
            "dtypes: float64(4), int64(3)\n",
            "memory usage: 7.0 MB\n"
          ],
          "name": "stdout"
        }
      ]
    },
    {
      "cell_type": "code",
      "metadata": {
        "id": "occupational-nightlife",
        "colab": {
          "base_uri": "https://localhost:8080/",
          "height": 269
        },
        "outputId": "a9845977-7bd7-4ec8-a664-4980f05d9421"
      },
      "source": [
        "data.describe().transpose()"
      ],
      "id": "occupational-nightlife",
      "execution_count": 5,
      "outputs": [
        {
          "output_type": "execute_result",
          "data": {
            "text/html": [
              "<div>\n",
              "<style scoped>\n",
              "    .dataframe tbody tr th:only-of-type {\n",
              "        vertical-align: middle;\n",
              "    }\n",
              "\n",
              "    .dataframe tbody tr th {\n",
              "        vertical-align: top;\n",
              "    }\n",
              "\n",
              "    .dataframe thead th {\n",
              "        text-align: right;\n",
              "    }\n",
              "</style>\n",
              "<table border=\"1\" class=\"dataframe\">\n",
              "  <thead>\n",
              "    <tr style=\"text-align: right;\">\n",
              "      <th></th>\n",
              "      <th>count</th>\n",
              "      <th>mean</th>\n",
              "      <th>std</th>\n",
              "      <th>min</th>\n",
              "      <th>25%</th>\n",
              "      <th>50%</th>\n",
              "      <th>75%</th>\n",
              "      <th>max</th>\n",
              "    </tr>\n",
              "  </thead>\n",
              "  <tbody>\n",
              "    <tr>\n",
              "      <th>&lt;DATE&gt;</th>\n",
              "      <td>131542.0</td>\n",
              "      <td>2.016068e+07</td>\n",
              "      <td>342.823847</td>\n",
              "      <td>20160104.0</td>\n",
              "      <td>20160404.0</td>\n",
              "      <td>20160706.0</td>\n",
              "      <td>20161004.0</td>\n",
              "      <td>20161230.0</td>\n",
              "    </tr>\n",
              "    <tr>\n",
              "      <th>&lt;TIME&gt;</th>\n",
              "      <td>131542.0</td>\n",
              "      <td>1.416612e+05</td>\n",
              "      <td>25097.300619</td>\n",
              "      <td>100100.0</td>\n",
              "      <td>121100.0</td>\n",
              "      <td>142100.0</td>\n",
              "      <td>163200.0</td>\n",
              "      <td>185000.0</td>\n",
              "    </tr>\n",
              "    <tr>\n",
              "      <th>&lt;OPEN&gt;</th>\n",
              "      <td>131542.0</td>\n",
              "      <td>1.238057e+03</td>\n",
              "      <td>159.635669</td>\n",
              "      <td>905.3</td>\n",
              "      <td>1048.0</td>\n",
              "      <td>1255.0</td>\n",
              "      <td>1375.5</td>\n",
              "      <td>1536.5</td>\n",
              "    </tr>\n",
              "    <tr>\n",
              "      <th>&lt;HIGH&gt;</th>\n",
              "      <td>131542.0</td>\n",
              "      <td>1.238288e+03</td>\n",
              "      <td>159.619480</td>\n",
              "      <td>906.0</td>\n",
              "      <td>1048.0</td>\n",
              "      <td>1255.0</td>\n",
              "      <td>1375.5</td>\n",
              "      <td>1543.0</td>\n",
              "    </tr>\n",
              "    <tr>\n",
              "      <th>&lt;LOW&gt;</th>\n",
              "      <td>131542.0</td>\n",
              "      <td>1.237813e+03</td>\n",
              "      <td>159.659644</td>\n",
              "      <td>900.1</td>\n",
              "      <td>1047.5</td>\n",
              "      <td>1254.5</td>\n",
              "      <td>1375.5</td>\n",
              "      <td>1534.5</td>\n",
              "    </tr>\n",
              "    <tr>\n",
              "      <th>&lt;CLOSE&gt;</th>\n",
              "      <td>131542.0</td>\n",
              "      <td>1.238050e+03</td>\n",
              "      <td>159.635762</td>\n",
              "      <td>904.9</td>\n",
              "      <td>1048.0</td>\n",
              "      <td>1255.0</td>\n",
              "      <td>1375.5</td>\n",
              "      <td>1536.5</td>\n",
              "    </tr>\n",
              "    <tr>\n",
              "      <th>&lt;VOL&gt;</th>\n",
              "      <td>131542.0</td>\n",
              "      <td>1.105407e+02</td>\n",
              "      <td>476.217677</td>\n",
              "      <td>0.0</td>\n",
              "      <td>0.0</td>\n",
              "      <td>0.0</td>\n",
              "      <td>41.0</td>\n",
              "      <td>28983.0</td>\n",
              "    </tr>\n",
              "  </tbody>\n",
              "</table>\n",
              "</div>"
            ],
            "text/plain": [
              "            count          mean  ...         75%         max\n",
              "<DATE>   131542.0  2.016068e+07  ...  20161004.0  20161230.0\n",
              "<TIME>   131542.0  1.416612e+05  ...    163200.0    185000.0\n",
              "<OPEN>   131542.0  1.238057e+03  ...      1375.5      1536.5\n",
              "<HIGH>   131542.0  1.238288e+03  ...      1375.5      1543.0\n",
              "<LOW>    131542.0  1.237813e+03  ...      1375.5      1534.5\n",
              "<CLOSE>  131542.0  1.238050e+03  ...      1375.5      1536.5\n",
              "<VOL>    131542.0  1.105407e+02  ...        41.0     28983.0\n",
              "\n",
              "[7 rows x 8 columns]"
            ]
          },
          "metadata": {
            "tags": []
          },
          "execution_count": 5
        }
      ]
    },
    {
      "cell_type": "markdown",
      "metadata": {
        "id": "constitutional-trailer"
      },
      "source": [
        "Rename columns"
      ],
      "id": "constitutional-trailer"
    },
    {
      "cell_type": "code",
      "metadata": {
        "id": "oriental-chaos",
        "colab": {
          "base_uri": "https://localhost:8080/",
          "height": 81
        },
        "outputId": "cc51ed18-12fd-43f2-f6d0-a2418a6183c9"
      },
      "source": [
        "data.rename(columns=lambda c: c.strip(\"<>\").lower(), inplace=True)\n",
        "data.rename(columns={\"vol\": \"volume\"}, inplace=True)\n",
        "data.head(1)"
      ],
      "id": "oriental-chaos",
      "execution_count": 6,
      "outputs": [
        {
          "output_type": "execute_result",
          "data": {
            "text/html": [
              "<div>\n",
              "<style scoped>\n",
              "    .dataframe tbody tr th:only-of-type {\n",
              "        vertical-align: middle;\n",
              "    }\n",
              "\n",
              "    .dataframe tbody tr th {\n",
              "        vertical-align: top;\n",
              "    }\n",
              "\n",
              "    .dataframe thead th {\n",
              "        text-align: right;\n",
              "    }\n",
              "</style>\n",
              "<table border=\"1\" class=\"dataframe\">\n",
              "  <thead>\n",
              "    <tr style=\"text-align: right;\">\n",
              "      <th></th>\n",
              "      <th>date</th>\n",
              "      <th>time</th>\n",
              "      <th>open</th>\n",
              "      <th>high</th>\n",
              "      <th>low</th>\n",
              "      <th>close</th>\n",
              "      <th>volume</th>\n",
              "    </tr>\n",
              "  </thead>\n",
              "  <tbody>\n",
              "    <tr>\n",
              "      <th>0</th>\n",
              "      <td>20160104</td>\n",
              "      <td>100100</td>\n",
              "      <td>1148.9</td>\n",
              "      <td>1148.9</td>\n",
              "      <td>1148.9</td>\n",
              "      <td>1148.9</td>\n",
              "      <td>0</td>\n",
              "    </tr>\n",
              "  </tbody>\n",
              "</table>\n",
              "</div>"
            ],
            "text/plain": [
              "       date    time    open    high     low   close  volume\n",
              "0  20160104  100100  1148.9  1148.9  1148.9  1148.9       0"
            ]
          },
          "metadata": {
            "tags": []
          },
          "execution_count": 6
        }
      ]
    },
    {
      "cell_type": "markdown",
      "metadata": {
        "id": "colonial-theory"
      },
      "source": [
        "Plot the data as a candlestic chart."
      ],
      "id": "colonial-theory"
    },
    {
      "cell_type": "code",
      "metadata": {
        "id": "pointed-leeds",
        "colab": {
          "base_uri": "https://localhost:8080/",
          "height": 238
        },
        "outputId": "8722e8b9-8eb5-496e-fdd5-4fb24d590aa1"
      },
      "source": [
        "ohlc = data.copy()\n",
        "\n",
        "# Make date-time index\n",
        "ohlc[\"date\"] = ohlc[\"date\"].astype(str) + ohlc[\"time\"].astype(str)\n",
        "ohlc[\"date\"] = pd.to_datetime(ohlc[\"date\"], format=\"%Y%m%d%H%M%S\")\n",
        "ohlc.drop(columns=[\"time\"], inplace=True)\n",
        "ohlc.set_index(\"date\", inplace=True)\n",
        "ohlc.head()"
      ],
      "id": "pointed-leeds",
      "execution_count": 7,
      "outputs": [
        {
          "output_type": "execute_result",
          "data": {
            "text/html": [
              "<div>\n",
              "<style scoped>\n",
              "    .dataframe tbody tr th:only-of-type {\n",
              "        vertical-align: middle;\n",
              "    }\n",
              "\n",
              "    .dataframe tbody tr th {\n",
              "        vertical-align: top;\n",
              "    }\n",
              "\n",
              "    .dataframe thead th {\n",
              "        text-align: right;\n",
              "    }\n",
              "</style>\n",
              "<table border=\"1\" class=\"dataframe\">\n",
              "  <thead>\n",
              "    <tr style=\"text-align: right;\">\n",
              "      <th></th>\n",
              "      <th>open</th>\n",
              "      <th>high</th>\n",
              "      <th>low</th>\n",
              "      <th>close</th>\n",
              "      <th>volume</th>\n",
              "    </tr>\n",
              "    <tr>\n",
              "      <th>date</th>\n",
              "      <th></th>\n",
              "      <th></th>\n",
              "      <th></th>\n",
              "      <th></th>\n",
              "      <th></th>\n",
              "    </tr>\n",
              "  </thead>\n",
              "  <tbody>\n",
              "    <tr>\n",
              "      <th>2016-01-04 10:01:00</th>\n",
              "      <td>1148.9</td>\n",
              "      <td>1148.9</td>\n",
              "      <td>1148.9</td>\n",
              "      <td>1148.9</td>\n",
              "      <td>0</td>\n",
              "    </tr>\n",
              "    <tr>\n",
              "      <th>2016-01-04 10:02:00</th>\n",
              "      <td>1148.9</td>\n",
              "      <td>1148.9</td>\n",
              "      <td>1148.9</td>\n",
              "      <td>1148.9</td>\n",
              "      <td>50</td>\n",
              "    </tr>\n",
              "    <tr>\n",
              "      <th>2016-01-04 10:03:00</th>\n",
              "      <td>1149.0</td>\n",
              "      <td>1149.0</td>\n",
              "      <td>1149.0</td>\n",
              "      <td>1149.0</td>\n",
              "      <td>33</td>\n",
              "    </tr>\n",
              "    <tr>\n",
              "      <th>2016-01-04 10:04:00</th>\n",
              "      <td>1149.0</td>\n",
              "      <td>1149.0</td>\n",
              "      <td>1149.0</td>\n",
              "      <td>1149.0</td>\n",
              "      <td>4</td>\n",
              "    </tr>\n",
              "    <tr>\n",
              "      <th>2016-01-04 10:05:00</th>\n",
              "      <td>1153.0</td>\n",
              "      <td>1153.0</td>\n",
              "      <td>1153.0</td>\n",
              "      <td>1153.0</td>\n",
              "      <td>0</td>\n",
              "    </tr>\n",
              "  </tbody>\n",
              "</table>\n",
              "</div>"
            ],
            "text/plain": [
              "                       open    high     low   close  volume\n",
              "date                                                       \n",
              "2016-01-04 10:01:00  1148.9  1148.9  1148.9  1148.9       0\n",
              "2016-01-04 10:02:00  1148.9  1148.9  1148.9  1148.9      50\n",
              "2016-01-04 10:03:00  1149.0  1149.0  1149.0  1149.0      33\n",
              "2016-01-04 10:04:00  1149.0  1149.0  1149.0  1149.0       4\n",
              "2016-01-04 10:05:00  1153.0  1153.0  1153.0  1153.0       0"
            ]
          },
          "metadata": {
            "tags": []
          },
          "execution_count": 7
        }
      ]
    },
    {
      "cell_type": "code",
      "metadata": {
        "id": "grand-event",
        "colab": {
          "base_uri": "https://localhost:8080/",
          "height": 529
        },
        "outputId": "b978ec66-4d05-464a-d113-ba6fe99dc0a9"
      },
      "source": [
        "mpf.plot(ohlc, type=\"line\", show_nontrading=True)"
      ],
      "id": "grand-event",
      "execution_count": 8,
      "outputs": [
        {
          "output_type": "display_data",
          "data": {
            "image/png": "[encoded data removed]",
            "text/plain": [
              "<Figure size 800x575 with 2 Axes>"
            ]
          },
          "metadata": {
            "tags": []
          }
        }
      ]
    },
    {
      "cell_type": "code",
      "metadata": {
        "id": "asian-bible",
        "colab": {
          "base_uri": "https://localhost:8080/",
          "height": 484
        },
        "outputId": "c6b497d8-19b1-4d32-90ff-ff501e5a556f"
      },
      "source": [
        "# Select one day of trading\n",
        "day = ohlc.loc[\"2016-12-06 15:00\":\"2016-12-06 16:00\", :]\n",
        "\n",
        "# Plot candlestick chart with volume and 7 and 12 min moving averages\n",
        "mpf.plot(day, type=\"candle\", mav=(7, 12), volume=True, show_nontrading=True)"
      ],
      "id": "asian-bible",
      "execution_count": 9,
      "outputs": [
        {
          "output_type": "display_data",
          "data": {
            "image/png": "[encoded data removed]",
            "text/plain": [
              "<Figure size 800x575 with 4 Axes>"
            ]
          },
          "metadata": {
            "tags": []
          }
        }
      ]
    },
    {
      "cell_type": "markdown",
      "metadata": {
        "id": "modified-crowd"
      },
      "source": [
        "Drop temporal columns that won't be needed for observations."
      ],
      "id": "modified-crowd"
    },
    {
      "cell_type": "code",
      "metadata": {
        "id": "radio-mouth",
        "colab": {
          "base_uri": "https://localhost:8080/",
          "height": 81
        },
        "outputId": "8ecbf2b7-3fdd-42f2-aea0-a80415d7a2fb"
      },
      "source": [
        "data.drop(columns=[\"date\", \"time\"], inplace=True)\n",
        "data.head(1)"
      ],
      "id": "radio-mouth",
      "execution_count": 10,
      "outputs": [
        {
          "output_type": "execute_result",
          "data": {
            "text/html": [
              "<div>\n",
              "<style scoped>\n",
              "    .dataframe tbody tr th:only-of-type {\n",
              "        vertical-align: middle;\n",
              "    }\n",
              "\n",
              "    .dataframe tbody tr th {\n",
              "        vertical-align: top;\n",
              "    }\n",
              "\n",
              "    .dataframe thead th {\n",
              "        text-align: right;\n",
              "    }\n",
              "</style>\n",
              "<table border=\"1\" class=\"dataframe\">\n",
              "  <thead>\n",
              "    <tr style=\"text-align: right;\">\n",
              "      <th></th>\n",
              "      <th>open</th>\n",
              "      <th>high</th>\n",
              "      <th>low</th>\n",
              "      <th>close</th>\n",
              "      <th>volume</th>\n",
              "    </tr>\n",
              "  </thead>\n",
              "  <tbody>\n",
              "    <tr>\n",
              "      <th>0</th>\n",
              "      <td>1148.9</td>\n",
              "      <td>1148.9</td>\n",
              "      <td>1148.9</td>\n",
              "      <td>1148.9</td>\n",
              "      <td>0</td>\n",
              "    </tr>\n",
              "  </tbody>\n",
              "</table>\n",
              "</div>"
            ],
            "text/plain": [
              "     open    high     low   close  volume\n",
              "0  1148.9  1148.9  1148.9  1148.9       0"
            ]
          },
          "metadata": {
            "tags": []
          },
          "execution_count": 10
        }
      ]
    },
    {
      "cell_type": "markdown",
      "metadata": {
        "tags": [],
        "id": "later-incentive"
      },
      "source": [
        "Filter out bars with too small changes compared to the open price."
      ],
      "id": "later-incentive"
    },
    {
      "cell_type": "code",
      "metadata": {
        "id": "gorgeous-aruba",
        "colab": {
          "base_uri": "https://localhost:8080/",
          "height": 206
        },
        "outputId": "67b07a9e-2ae8-40f9-be61-8e6312122640"
      },
      "source": [
        "data.query(\n",
        "    \"abs(high - open) >= 1e-8 or \"\n",
        "    \"abs(low - open) >= 1e-8 or \"\n",
        "    \"abs(close - open) >= 1e-8\",\n",
        "    inplace=True,\n",
        ")\n",
        "data.reset_index(drop=True, inplace=True)\n",
        "data.head()"
      ],
      "id": "gorgeous-aruba",
      "execution_count": 11,
      "outputs": [
        {
          "output_type": "execute_result",
          "data": {
            "text/html": [
              "<div>\n",
              "<style scoped>\n",
              "    .dataframe tbody tr th:only-of-type {\n",
              "        vertical-align: middle;\n",
              "    }\n",
              "\n",
              "    .dataframe tbody tr th {\n",
              "        vertical-align: top;\n",
              "    }\n",
              "\n",
              "    .dataframe thead th {\n",
              "        text-align: right;\n",
              "    }\n",
              "</style>\n",
              "<table border=\"1\" class=\"dataframe\">\n",
              "  <thead>\n",
              "    <tr style=\"text-align: right;\">\n",
              "      <th></th>\n",
              "      <th>open</th>\n",
              "      <th>high</th>\n",
              "      <th>low</th>\n",
              "      <th>close</th>\n",
              "      <th>volume</th>\n",
              "    </tr>\n",
              "  </thead>\n",
              "  <tbody>\n",
              "    <tr>\n",
              "      <th>0</th>\n",
              "      <td>1156.9</td>\n",
              "      <td>1157.9</td>\n",
              "      <td>1153.0</td>\n",
              "      <td>1153.0</td>\n",
              "      <td>43</td>\n",
              "    </tr>\n",
              "    <tr>\n",
              "      <th>1</th>\n",
              "      <td>1150.6</td>\n",
              "      <td>1150.6</td>\n",
              "      <td>1150.4</td>\n",
              "      <td>1150.4</td>\n",
              "      <td>5</td>\n",
              "    </tr>\n",
              "    <tr>\n",
              "      <th>2</th>\n",
              "      <td>1150.2</td>\n",
              "      <td>1150.2</td>\n",
              "      <td>1149.5</td>\n",
              "      <td>1149.7</td>\n",
              "      <td>165</td>\n",
              "    </tr>\n",
              "    <tr>\n",
              "      <th>3</th>\n",
              "      <td>1149.9</td>\n",
              "      <td>1150.0</td>\n",
              "      <td>1149.9</td>\n",
              "      <td>1150.0</td>\n",
              "      <td>10</td>\n",
              "    </tr>\n",
              "    <tr>\n",
              "      <th>4</th>\n",
              "      <td>1150.0</td>\n",
              "      <td>1150.8</td>\n",
              "      <td>1150.0</td>\n",
              "      <td>1150.8</td>\n",
              "      <td>4</td>\n",
              "    </tr>\n",
              "  </tbody>\n",
              "</table>\n",
              "</div>"
            ],
            "text/plain": [
              "     open    high     low   close  volume\n",
              "0  1156.9  1157.9  1153.0  1153.0      43\n",
              "1  1150.6  1150.6  1150.4  1150.4       5\n",
              "2  1150.2  1150.2  1149.5  1149.7     165\n",
              "3  1149.9  1150.0  1149.9  1150.0      10\n",
              "4  1150.0  1150.8  1150.0  1150.8       4"
            ]
          },
          "metadata": {
            "tags": []
          },
          "execution_count": 11
        }
      ]
    },
    {
      "cell_type": "markdown",
      "metadata": {
        "id": "dutch-gambling"
      },
      "source": [
        "Convert prices to relative in respect to open price. This will help the model to focus on patterns like \"the price has dropped by 5%\" rather than on absolute values.\n",
        "\n",
        "The drawback is that markets sometimes bounce around known turning points but we can disregard that in our example."
      ],
      "id": "dutch-gambling"
    },
    {
      "cell_type": "code",
      "metadata": {
        "id": "infinite-fortune",
        "colab": {
          "base_uri": "https://localhost:8080/",
          "height": 206
        },
        "outputId": "bc24937d-61d6-4a93-9bd0-1a49aebc87fd"
      },
      "source": [
        "data.eval(\n",
        "    \"\"\"\n",
        "    high = (high - open) / open\n",
        "    low = (low - open) / open\n",
        "    close = (close - open) / open\n",
        "    \"\"\",\n",
        "    inplace=True,\n",
        ")\n",
        "data.head()"
      ],
      "id": "infinite-fortune",
      "execution_count": 12,
      "outputs": [
        {
          "output_type": "execute_result",
          "data": {
            "text/html": [
              "<div>\n",
              "<style scoped>\n",
              "    .dataframe tbody tr th:only-of-type {\n",
              "        vertical-align: middle;\n",
              "    }\n",
              "\n",
              "    .dataframe tbody tr th {\n",
              "        vertical-align: top;\n",
              "    }\n",
              "\n",
              "    .dataframe thead th {\n",
              "        text-align: right;\n",
              "    }\n",
              "</style>\n",
              "<table border=\"1\" class=\"dataframe\">\n",
              "  <thead>\n",
              "    <tr style=\"text-align: right;\">\n",
              "      <th></th>\n",
              "      <th>open</th>\n",
              "      <th>high</th>\n",
              "      <th>low</th>\n",
              "      <th>close</th>\n",
              "      <th>volume</th>\n",
              "    </tr>\n",
              "  </thead>\n",
              "  <tbody>\n",
              "    <tr>\n",
              "      <th>0</th>\n",
              "      <td>1156.9</td>\n",
              "      <td>0.000864</td>\n",
              "      <td>-0.003371</td>\n",
              "      <td>-0.003371</td>\n",
              "      <td>43</td>\n",
              "    </tr>\n",
              "    <tr>\n",
              "      <th>1</th>\n",
              "      <td>1150.6</td>\n",
              "      <td>0.000000</td>\n",
              "      <td>-0.000174</td>\n",
              "      <td>-0.000174</td>\n",
              "      <td>5</td>\n",
              "    </tr>\n",
              "    <tr>\n",
              "      <th>2</th>\n",
              "      <td>1150.2</td>\n",
              "      <td>0.000000</td>\n",
              "      <td>-0.000609</td>\n",
              "      <td>-0.000435</td>\n",
              "      <td>165</td>\n",
              "    </tr>\n",
              "    <tr>\n",
              "      <th>3</th>\n",
              "      <td>1149.9</td>\n",
              "      <td>0.000087</td>\n",
              "      <td>0.000000</td>\n",
              "      <td>0.000087</td>\n",
              "      <td>10</td>\n",
              "    </tr>\n",
              "    <tr>\n",
              "      <th>4</th>\n",
              "      <td>1150.0</td>\n",
              "      <td>0.000696</td>\n",
              "      <td>0.000000</td>\n",
              "      <td>0.000696</td>\n",
              "      <td>4</td>\n",
              "    </tr>\n",
              "  </tbody>\n",
              "</table>\n",
              "</div>"
            ],
            "text/plain": [
              "     open      high       low     close  volume\n",
              "0  1156.9  0.000864 -0.003371 -0.003371      43\n",
              "1  1150.6  0.000000 -0.000174 -0.000174       5\n",
              "2  1150.2  0.000000 -0.000609 -0.000435     165\n",
              "3  1149.9  0.000087  0.000000  0.000087      10\n",
              "4  1150.0  0.000696  0.000000  0.000696       4"
            ]
          },
          "metadata": {
            "tags": []
          },
          "execution_count": 12
        }
      ]
    },
    {
      "cell_type": "markdown",
      "metadata": {
        "id": "individual-rugby"
      },
      "source": [
        "Convert all the values to single precision."
      ],
      "id": "individual-rugby"
    },
    {
      "cell_type": "code",
      "metadata": {
        "id": "extra-reviewer",
        "colab": {
          "base_uri": "https://localhost:8080/"
        },
        "outputId": "643f473a-e8ef-4fd8-9005-6ef8418952c2"
      },
      "source": [
        "data = data.astype(dtype=np.float32, copy=False)\n",
        "data.info()"
      ],
      "id": "extra-reviewer",
      "execution_count": 13,
      "outputs": [
        {
          "output_type": "stream",
          "text": [
            "<class 'pandas.core.frame.DataFrame'>\n",
            "RangeIndex: 31790 entries, 0 to 31789\n",
            "Data columns (total 5 columns):\n",
            " #   Column  Non-Null Count  Dtype  \n",
            "---  ------  --------------  -----  \n",
            " 0   open    31790 non-null  float32\n",
            " 1   high    31790 non-null  float32\n",
            " 2   low     31790 non-null  float32\n",
            " 3   close   31790 non-null  float32\n",
            " 4   volume  31790 non-null  float32\n",
            "dtypes: float32(5)\n",
            "memory usage: 621.0 KB\n"
          ],
          "name": "stdout"
        }
      ]
    },
    {
      "cell_type": "code",
      "metadata": {
        "id": "vocational-modeling",
        "colab": {
          "base_uri": "https://localhost:8080/",
          "height": 206
        },
        "outputId": "a2ddaa63-42f4-405d-c8b6-04c14d905727"
      },
      "source": [
        "data.describe().transpose()"
      ],
      "id": "vocational-modeling",
      "execution_count": 14,
      "outputs": [
        {
          "output_type": "execute_result",
          "data": {
            "text/html": [
              "<div>\n",
              "<style scoped>\n",
              "    .dataframe tbody tr th:only-of-type {\n",
              "        vertical-align: middle;\n",
              "    }\n",
              "\n",
              "    .dataframe tbody tr th {\n",
              "        vertical-align: top;\n",
              "    }\n",
              "\n",
              "    .dataframe thead th {\n",
              "        text-align: right;\n",
              "    }\n",
              "</style>\n",
              "<table border=\"1\" class=\"dataframe\">\n",
              "  <thead>\n",
              "    <tr style=\"text-align: right;\">\n",
              "      <th></th>\n",
              "      <th>count</th>\n",
              "      <th>mean</th>\n",
              "      <th>std</th>\n",
              "      <th>min</th>\n",
              "      <th>25%</th>\n",
              "      <th>50%</th>\n",
              "      <th>75%</th>\n",
              "      <th>max</th>\n",
              "    </tr>\n",
              "  </thead>\n",
              "  <tbody>\n",
              "    <tr>\n",
              "      <th>open</th>\n",
              "      <td>31790.0</td>\n",
              "      <td>1211.004028</td>\n",
              "      <td>160.147659</td>\n",
              "      <td>905.299988</td>\n",
              "      <td>1032.500000</td>\n",
              "      <td>1234.500000</td>\n",
              "      <td>1349.000000</td>\n",
              "      <td>1536.500000</td>\n",
              "    </tr>\n",
              "    <tr>\n",
              "      <th>high</th>\n",
              "      <td>31790.0</td>\n",
              "      <td>0.000793</td>\n",
              "      <td>0.001362</td>\n",
              "      <td>0.000000</td>\n",
              "      <td>0.000000</td>\n",
              "      <td>0.000387</td>\n",
              "      <td>0.001069</td>\n",
              "      <td>0.068702</td>\n",
              "    </tr>\n",
              "    <tr>\n",
              "      <th>low</th>\n",
              "      <td>31790.0</td>\n",
              "      <td>-0.000840</td>\n",
              "      <td>0.001381</td>\n",
              "      <td>-0.041529</td>\n",
              "      <td>-0.001148</td>\n",
              "      <td>-0.000393</td>\n",
              "      <td>0.000000</td>\n",
              "      <td>0.000000</td>\n",
              "    </tr>\n",
              "    <tr>\n",
              "      <th>close</th>\n",
              "      <td>31790.0</td>\n",
              "      <td>-0.000024</td>\n",
              "      <td>0.001804</td>\n",
              "      <td>-0.024608</td>\n",
              "      <td>-0.000805</td>\n",
              "      <td>0.000000</td>\n",
              "      <td>0.000791</td>\n",
              "      <td>0.041985</td>\n",
              "    </tr>\n",
              "    <tr>\n",
              "      <th>volume</th>\n",
              "      <td>31790.0</td>\n",
              "      <td>397.227692</td>\n",
              "      <td>886.179688</td>\n",
              "      <td>2.000000</td>\n",
              "      <td>47.000000</td>\n",
              "      <td>121.000000</td>\n",
              "      <td>388.000000</td>\n",
              "      <td>28983.000000</td>\n",
              "    </tr>\n",
              "  </tbody>\n",
              "</table>\n",
              "</div>"
            ],
            "text/plain": [
              "          count         mean  ...          75%           max\n",
              "open    31790.0  1211.004028  ...  1349.000000   1536.500000\n",
              "high    31790.0     0.000793  ...     0.001069      0.068702\n",
              "low     31790.0    -0.000840  ...     0.000000      0.000000\n",
              "close   31790.0    -0.000024  ...     0.000791      0.041985\n",
              "volume  31790.0   397.227692  ...   388.000000  28983.000000\n",
              "\n",
              "[5 rows x 8 columns]"
            ]
          },
          "metadata": {
            "tags": []
          },
          "execution_count": 14
        }
      ]
    },
    {
      "cell_type": "markdown",
      "metadata": {
        "id": "dirty-afternoon"
      },
      "source": [
        "## Data Preprocessing"
      ],
      "id": "dirty-afternoon"
    },
    {
      "cell_type": "markdown",
      "metadata": {
        "id": "occupational-scope"
      },
      "source": [
        "Wrap all preprocessing steps into a function."
      ],
      "id": "occupational-scope"
    },
    {
      "cell_type": "code",
      "metadata": {
        "id": "raised-holmes"
      },
      "source": [
        "def load_df(csv_file: str, eps: float = 1e-8) -> pd.DataFrame:\n",
        "    \"\"\"\n",
        "    Loads CSV stocks file and pre-processes it to a DF.\n",
        "    \"\"\"\n",
        "\n",
        "    # Load CSV\n",
        "    df = pd.read_csv(csv_file)\n",
        "\n",
        "    # Rename columns\n",
        "    df.rename(columns=lambda c: c.strip(\"<>\").lower(), inplace=True)\n",
        "    df.rename(columns={\"vol\": \"volume\"}, inplace=True)\n",
        "\n",
        "    # Drop irrelevant columns\n",
        "    df.drop(columns=[\"date\", \"time\"], inplace=True)\n",
        "\n",
        "    # Keep bars with significant changes only\n",
        "    df.query(\n",
        "        f\"abs(high - open) >= {eps} or \"\n",
        "        f\"abs(low - open) >= {eps} or \"\n",
        "        f\"abs(close - open) >= {eps}\",\n",
        "        inplace=True,\n",
        "    )\n",
        "    df.reset_index(drop=True, inplace=True)\n",
        "\n",
        "    # Make high, low and close relative to open price\n",
        "    df.eval(\n",
        "        \"\"\"\n",
        "        high = (high - open) / open\n",
        "        low = (low - open) / open\n",
        "        close = (close - open) / open\n",
        "        \"\"\",\n",
        "        inplace=True,\n",
        "    )\n",
        "\n",
        "    # Return dataset in single precision\n",
        "    return df.astype(dtype=np.float32, copy=False)\n",
        "\n",
        "\n",
        "# Load both datasets as Pandas DFs\n",
        "data_valid = load_df(os.path.join(\"data\", \"stocks\", \"YNDX_150101_151231.csv\"))\n",
        "data_train = load_df(os.path.join(\"data\", \"stocks\", \"YNDX_160101_161231.csv\"))"
      ],
      "id": "raised-holmes",
      "execution_count": 15,
      "outputs": []
    },
    {
      "cell_type": "markdown",
      "metadata": {
        "id": "AEVFJgHCE5p1"
      },
      "source": [
        "## The Environment"
      ],
      "id": "AEVFJgHCE5p1"
    },
    {
      "cell_type": "markdown",
      "metadata": {
        "id": "198F3Ku-FYzo"
      },
      "source": [
        "### Actions"
      ],
      "id": "198F3Ku-FYzo"
    },
    {
      "cell_type": "code",
      "metadata": {
        "id": "ultimate-appraisal"
      },
      "source": [
        "class Action(IntEnum):\n",
        "    SKIP = 0\n",
        "    BUY = 1\n",
        "    CLOSE = 2"
      ],
      "id": "ultimate-appraisal",
      "execution_count": 16,
      "outputs": []
    },
    {
      "cell_type": "markdown",
      "metadata": {
        "id": "OjKaflYAFa-R"
      },
      "source": [
        "### State & Observations"
      ],
      "id": "OjKaflYAFa-R"
    },
    {
      "cell_type": "code",
      "metadata": {
        "id": "RtTigdE5Ff-w"
      },
      "source": [
        "def real_price(relative: float, relative_to: float) -> float:\n",
        "    return 100.0 * (relative / relative_to - 1.0)\n",
        "\n",
        "\n",
        "class State:\n",
        "    def __init__(\n",
        "        self,\n",
        "        n_bars: int,\n",
        "        commission_perc: float,\n",
        "        reset_on_close: bool,\n",
        "        reward_on_close: bool = True,\n",
        "        volumes: bool = True,\n",
        "    ) -> None:\n",
        "        assert n_bars > 0\n",
        "        assert commission_perc >= 0.0\n",
        "        self.n_bars = n_bars\n",
        "        self.commission_perc = commission_perc\n",
        "        self.reset_on_close = reset_on_close\n",
        "        self.reward_on_close = reward_on_close\n",
        "        # List of HLC(V) columns\n",
        "        self.columns = (\n",
        "            [\"high\", \"low\", \"close\", \"volume\"]\n",
        "            if volumes\n",
        "            else [\"high\", \"low\", \"close\"]\n",
        "        )\n",
        "\n",
        "    def reset(self, prices: pd.DataFrame, offset: int) -> None:\n",
        "        assert offset >= self.n_bars - 1\n",
        "        self.have_position = False\n",
        "        self.open_price = 0.0\n",
        "        self._prices = prices\n",
        "        self._offset = offset\n",
        "\n",
        "    @property\n",
        "    def shape(self) -> Tuple[int, ...]:\n",
        "        \"\"\"\n",
        "        Returns 1D shape: features * bars + 1 position_flag + 1 relative_profit\n",
        "        where the no. features is 3 or 4 (high + low + closed [+ volume])\n",
        "        \"\"\"\n",
        "        return len(self.columns) * self.n_bars + 1 + 1,\n",
        "\n",
        "    def encode(self) -> np.ndarray:\n",
        "        \"\"\"\n",
        "        Convert current state into flat numpy feature array.\n",
        "        \"\"\"\n",
        "        encoded = np.ndarray(shape=self.shape, dtype=np.float32)\n",
        "        \n",
        "        f = 0\n",
        "        cols = self.columns\n",
        "        n_cols = len(cols)\n",
        "\n",
        "        for bar in range(-self.n_bars + 1, 1):\n",
        "            encoded[f:f+n_cols] = self._prices.loc[self._offset + bar, cols]\n",
        "            f += n_cols\n",
        "        \n",
        "        encoded[f] = float(self.have_position)\n",
        "        encoded[f + 1] = (\n",
        "            0.0\n",
        "            if not self.have_position\n",
        "            else self.current_close / self.open_price - 1.0\n",
        "        )\n",
        "\n",
        "        return encoded\n",
        "\n",
        "    @property\n",
        "    def current_close(self) -> float:\n",
        "        \"\"\"Real close price for the current bar\"\"\"\n",
        "        open = self._prices.loc[self._offset, \"open\"]\n",
        "        relative_close = self._prices.loc[self._offset, \"close\"]\n",
        "        return open * (1.0 + relative_close)\n",
        "\n",
        "    def step(self, action: Action) ->  Tuple[float, bool]:\n",
        "        reward = 0.0\n",
        "        done = False\n",
        "        close = self.current_close\n",
        "        \n",
        "        if action is Action.BUY and not self.have_position:\n",
        "            \n",
        "            self.have_position = True\n",
        "            self.open_price = close\n",
        "\n",
        "            reward -= self.commission_perc\n",
        "        \n",
        "        elif action is Action.CLOSE and self.have_position:\n",
        "            \n",
        "            reward -= self.commission_perc\n",
        "            done |= self.reset_on_close\n",
        "            \n",
        "            if self.reward_on_close:\n",
        "                reward += real_price(close, relative_to=self.open_price)\n",
        "            \n",
        "            self.have_position = False\n",
        "            self.open_price = 0.0\n",
        "\n",
        "        self._offset += 1\n",
        "        prev_close = close\n",
        "        close = self.current_close\n",
        "        \n",
        "        done |= self._offset >= len(self._prices[\"close\"]) - 1\n",
        "\n",
        "        if self.have_position and not self.reward_on_close:\n",
        "            reward += real_price(close, relative_to=prev_close)\n",
        "\n",
        "        return reward, done\n",
        "\n",
        "\n",
        "class Conv1DState(State):\n",
        "    \"\"\"\n",
        "    State with shape suitable for 1D convolution\n",
        "    \"\"\"\n",
        "\n",
        "    @property\n",
        "    def shape(self) -> Tuple[int, ...]:\n",
        "        n_features = len(self.columns) + 2\n",
        "        return n_features, self.n_bars\n",
        "        \n",
        "    def encode(self) -> np.ndarray:\n",
        "        encoded = np.zeros(shape=self.shape, dtype=np.float32)\n",
        "        \n",
        "        # Note: pd indexing is inclusive, therefore stop = offset (not + 1)\n",
        "        start = self._offset - (self.n_bars - 1)\n",
        "        stop = self._offset\n",
        "\n",
        "        n_cols = len(self.columns)\n",
        "        \n",
        "        encoded[:n_cols] = self._prices.loc[start:stop, self.columns].T\n",
        "        \n",
        "        if self.have_position:\n",
        "            encoded[n_cols] = 1.0\n",
        "            encoded[n_cols + 1] = self.current_close / self.open_price - 1.0\n",
        "        \n",
        "        return encoded"
      ],
      "id": "RtTigdE5Ff-w",
      "execution_count": 93,
      "outputs": []
    },
    {
      "cell_type": "markdown",
      "metadata": {
        "id": "4NouerIFj9D2"
      },
      "source": [
        "### Gym Environment"
      ],
      "id": "4NouerIFj9D2"
    },
    {
      "cell_type": "code",
      "metadata": {
        "id": "IO-B4F9bj_5g"
      },
      "source": [
        "Step = Tuple[np.ndarray, float, bool, Dict[str, Any]]\n",
        "\n",
        "\n",
        "class StocksEnv(gym.Env):\n",
        "    metadata = {\"render.modes\": [\"human\"]}\n",
        "    spec = EnvSpec(\"StocksEnv-v0\")\n",
        "\n",
        "    def __init__(\n",
        "        self,\n",
        "        prices: Mapping[str, pd.DataFrame],\n",
        "        n_bars: int = 10,\n",
        "        commission: float = 0.1,\n",
        "        reset_on_close: bool = True,\n",
        "        conv_state: bool = False,\n",
        "        random_offset_on_reset: bool = True,\n",
        "        reward_on_close: bool = False,\n",
        "        volumes: bool = False,\n",
        "    ) -> None:\n",
        "        self._prices = prices\n",
        "\n",
        "        state_cls = Conv1DState if conv_state else State\n",
        "        self._state = state_cls(\n",
        "            n_bars=n_bars,\n",
        "            commission_perc=commission,\n",
        "            reset_on_close=reset_on_close,\n",
        "            reward_on_close=reward_on_close,\n",
        "            volumes=volumes,\n",
        "        )\n",
        "        \n",
        "        self.action_space = gym.spaces.Discrete(n=len(Action))\n",
        "        self.observation_space = gym.spaces.Box(\n",
        "            low=-np.inf,\n",
        "            high=np.inf,\n",
        "            shape=self._state.shape,\n",
        "            dtype=np.float32,\n",
        "        )\n",
        "        \n",
        "        self.random_offset_on_reset = random_offset_on_reset\n",
        "        self.seed()\n",
        "\n",
        "    def reset(self) -> np.ndarray:\n",
        "        # Make selection of the instrument and it's offset, then reset the state\n",
        "        self._instrument = self.np_random.choice(list(self._prices.keys()))\n",
        "        prices = self._prices[self._instrument]\n",
        "        n_bars = self._state.n_bars\n",
        "        offset = (\n",
        "            self.np_random.choice(len(prices[\"high\"]) - n_bars * 10) + n_bars\n",
        "            if self.random_offset_on_reset\n",
        "            else n_bars\n",
        "        )\n",
        "        self._state.reset(prices, offset)\n",
        "        return self._state.encode()\n",
        "\n",
        "    def step(self, action: Action) -> Step:\n",
        "        reward, done = self._state.step(action)\n",
        "        observation = self._state.encode()\n",
        "        info = {\n",
        "            \"instrument\": self._instrument,\n",
        "            \"offset\": self._state._offset,\n",
        "        }\n",
        "        return observation, reward, done, info\n",
        "\n",
        "    def render(self, mode: str = \"human\", close: bool = False) -> Any:\n",
        "        raise NotImplementedError\n",
        "\n",
        "    def close(self) -> None:\n",
        "        raise NotImplementedError\n",
        "\n",
        "    def seed(self, seed: Optional[int] = None) -> Tuple[int, int]:\n",
        "        self.np_random, seed1 = seeding.np_random(seed)\n",
        "        seed2 = seeding.hash_seed(seed1 + 1) % 2 ** 31\n",
        "        return [seed1, seed2]\n",
        "\n",
        "    @classmethod\n",
        "    def from_dir(cls, data_dir: str, **kwargs: Any) -> \"StocksEnv\":\n",
        "        prices = {\n",
        "            file_path: load_df(file_path)\n",
        "            for file_path in glob.glob(os.path.join(data_dir, \"*.csv\"))\n",
        "        }\n",
        "        return StocksEnv(prices, **kwargs)"
      ],
      "id": "IO-B4F9bj_5g",
      "execution_count": 94,
      "outputs": []
    },
    {
      "cell_type": "markdown",
      "metadata": {
        "id": "RpSICOnCpnC9"
      },
      "source": [
        "### Test Environment & State"
      ],
      "id": "RpSICOnCpnC9"
    },
    {
      "cell_type": "code",
      "metadata": {
        "id": "AEOzh7lRprv1",
        "outputId": "53b09a07-a948-4a9f-d209-78fd4eafef5c",
        "colab": {
          "base_uri": "https://localhost:8080/",
          "height": 358
        }
      },
      "source": [
        "def some_prices() ->  pd.DataFrame:\n",
        "    df = pd.DataFrame.from_dict({\n",
        "        \"open\": pd.Series([1.0, 2.0, 3.0, 1.0]),\n",
        "        \"high\": pd.Series([2.0, 3.0, 4.0, 2.0]),\n",
        "        \"low\": pd.Series([0.0, 1.0, 2.0, 0.0]),\n",
        "        \"close\": pd.Series([2.0, 3.0, 1.0, 2.0]),\n",
        "        \"volume\": pd.Series([10.0, 10.0, 10.0, 10.0]),\n",
        "    })\n",
        "    df.eval(\n",
        "        \"\"\"\n",
        "        high = (high - open) / open\n",
        "        low = (low - open) / open\n",
        "        close = (close - open) / open\n",
        "        \"\"\",\n",
        "        inplace=True,\n",
        "    )\n",
        "    return df.astype(dtype=np.float32, copy=False)\n",
        "\n",
        "\n",
        "def test_state_basic() -> None:\n",
        "    s = State(\n",
        "        n_bars=4,\n",
        "        commission_perc=0.0,\n",
        "        reset_on_close=False,\n",
        "        volumes=False,\n",
        "    )\n",
        "    assert s.shape == (4 * 3 + 2, )\n",
        "\n",
        "\n",
        "def test_state_reset() -> None:\n",
        "    s = State(n_bars=1, commission_perc=0.0, reset_on_close=False)\n",
        "    \n",
        "    s.reset(prices=some_prices(), offset=0)\n",
        "    assert not s.have_position\n",
        "    assert math.isclose(s.current_close, 2.0)\n",
        "    \n",
        "    reward, done = s.step(Action.SKIP)\n",
        "    assert not done\n",
        "    assert math.isclose(reward, 0.0)\n",
        "    assert math.isclose(s.current_close, 3.0)\n",
        "    \n",
        "    reward, done = s.step(Action.SKIP)\n",
        "    assert not done\n",
        "    assert math.isclose(reward, 0.0)\n",
        "    assert math.isclose(s.current_close, 1.0, rel_tol=1e-7)\n",
        "    \n",
        "    reward, done = s.step(Action.SKIP)\n",
        "    assert done\n",
        "    assert math.isclose(reward, 0.0)\n",
        "    assert math.isclose(s.current_close, 2.0)\n",
        "\n",
        "\n",
        "def test_state_commission() -> None:\n",
        "    s = State(\n",
        "        n_bars=1,\n",
        "        commission_perc=1.0,\n",
        "        reset_on_close=False,\n",
        "        reward_on_close=False,\n",
        "    )\n",
        "    \n",
        "    s.reset(prices=some_prices(), offset=0)\n",
        "    assert not s.have_position\n",
        "    assert math.isclose(s.current_close, 2.0)\n",
        "    \n",
        "    reward, done = s.step(Action.BUY)\n",
        "    assert not done\n",
        "    assert s.have_position\n",
        "    \n",
        "    # Execution price is the cur bar close, comission 1%, reward in percent\n",
        "    expected = 100.0 * (3.0 - 2.0) / 2.0 - 1.0\n",
        "    assert math.isclose(reward, expected), f\"{reward} != {expected}\"\n",
        "    assert math.isclose(s.current_close, 3.0)\n",
        "\n",
        "\n",
        "def test_state_final_reward() -> None:\n",
        "    s = State(\n",
        "        n_bars=1,\n",
        "        commission_perc=0.0,\n",
        "        reset_on_close=False,\n",
        "        reward_on_close=True,  # FIXME\n",
        "    )\n",
        "    \n",
        "    s.reset(prices=some_prices(), offset=0)\n",
        "    assert not s.have_position\n",
        "    assert math.isclose(s.current_close, 2.0)\n",
        "    \n",
        "    reward, done = s.step(Action.BUY)\n",
        "    assert s.have_position\n",
        "    assert not done\n",
        "    assert math.isclose(reward, 50.0), f\"{reward} != 50.0\"\n",
        "    assert math.isclose(s.current_close, 3.0)\n",
        "    \n",
        "    reward, done = s.step(Action.SKIP)\n",
        "    assert not done\n",
        "    assert math.isclose(reward, -2 / 3 * 100.0, rel_tol=1e-7), f\"{reward} != {-2 / 3 * 100.0}\"\n",
        "    assert math.isclose(s.current_close, 1.0, rel_tol=1e-7), f\"{s.current_close}\"\n",
        "    \n",
        "    reward, done = s.step(Action.CLOSE)\n",
        "    assert done\n",
        "    assert math.isclose(reward, -50.0), f\"{reward} != -50.0\"\n",
        "    assert math.isclose(s.current_close, 2.0)\n",
        "\n",
        "\n",
        "def test_conv_state_basic() -> None:\n",
        "    s = Conv1DState(\n",
        "        n_bars=2,\n",
        "        commission_perc=0.0,\n",
        "        reset_on_close=False,\n",
        "        volumes=True,\n",
        "    )\n",
        "    assert s.shape == (6, 2)\n",
        "    s.reset(prices=some_prices(), offset=1)\n",
        "    e = s.encode()\n",
        "    assert s.shape == e.shape\n",
        "\n",
        "\n",
        "def test_env_simple() -> None:\n",
        "    prices = load_df(os.path.join(\"data\", \"stocks\", \"YNDX_160101_161231.csv\"))\n",
        "    env = StocksEnv({\"YNDX\": prices})\n",
        "    _ = env.reset()\n",
        "    _, reward, _, _ = env.step(0)\n",
        "    assert math.isclose(reward, 0.0), \"reward != 0.0\"\n",
        "\n",
        "\n",
        "# Run all tests\n",
        "test_state_basic()\n",
        "test_state_reset()\n",
        "test_state_commission()\n",
        "test_state_final_reward()\n",
        "test_conv_state_basic()\n",
        "test_env_simple()"
      ],
      "id": "AEOzh7lRprv1",
      "execution_count": 106,
      "outputs": [
        {
          "output_type": "error",
          "ename": "AssertionError",
          "evalue": "ignored",
          "traceback": [
            "\u001b[0;31m---------------------------------------------------------------------------\u001b[0m",
            "\u001b[0;31mAssertionError\u001b[0m                            Traceback (most recent call last)",
            "\u001b[0;32m<ipython-input-106-2cd2688c91eb>\u001b[0m in \u001b[0;36m<module>\u001b[0;34m()\u001b[0m\n\u001b[1;32m    127\u001b[0m \u001b[0mtest_state_reset\u001b[0m\u001b[0;34m(\u001b[0m\u001b[0;34m)\u001b[0m\u001b[0;34m\u001b[0m\u001b[0;34m\u001b[0m\u001b[0m\n\u001b[1;32m    128\u001b[0m \u001b[0mtest_state_commission\u001b[0m\u001b[0;34m(\u001b[0m\u001b[0;34m)\u001b[0m\u001b[0;34m\u001b[0m\u001b[0;34m\u001b[0m\u001b[0m\n\u001b[0;32m--> 129\u001b[0;31m \u001b[0mtest_state_final_reward\u001b[0m\u001b[0;34m(\u001b[0m\u001b[0;34m)\u001b[0m\u001b[0;34m\u001b[0m\u001b[0;34m\u001b[0m\u001b[0m\n\u001b[0m\u001b[1;32m    130\u001b[0m \u001b[0mtest_conv_state_basic\u001b[0m\u001b[0;34m(\u001b[0m\u001b[0;34m)\u001b[0m\u001b[0;34m\u001b[0m\u001b[0;34m\u001b[0m\u001b[0m\n\u001b[1;32m    131\u001b[0m \u001b[0mtest_env_simple\u001b[0m\u001b[0;34m(\u001b[0m\u001b[0;34m)\u001b[0m\u001b[0;34m\u001b[0m\u001b[0;34m\u001b[0m\u001b[0m\n",
            "\u001b[0;32m<ipython-input-106-2cd2688c91eb>\u001b[0m in \u001b[0;36mtest_state_final_reward\u001b[0;34m()\u001b[0m\n\u001b[1;32m     88\u001b[0m     \u001b[0;32massert\u001b[0m \u001b[0ms\u001b[0m\u001b[0;34m.\u001b[0m\u001b[0mhave_position\u001b[0m\u001b[0;34m\u001b[0m\u001b[0;34m\u001b[0m\u001b[0m\n\u001b[1;32m     89\u001b[0m     \u001b[0;32massert\u001b[0m \u001b[0;32mnot\u001b[0m \u001b[0mdone\u001b[0m\u001b[0;34m\u001b[0m\u001b[0;34m\u001b[0m\u001b[0m\n\u001b[0;32m---> 90\u001b[0;31m     \u001b[0;32massert\u001b[0m \u001b[0mmath\u001b[0m\u001b[0;34m.\u001b[0m\u001b[0misclose\u001b[0m\u001b[0;34m(\u001b[0m\u001b[0mreward\u001b[0m\u001b[0;34m,\u001b[0m \u001b[0;36m50.0\u001b[0m\u001b[0;34m)\u001b[0m\u001b[0;34m,\u001b[0m \u001b[0;34mf\"{reward} != 50.0\"\u001b[0m\u001b[0;34m\u001b[0m\u001b[0;34m\u001b[0m\u001b[0m\n\u001b[0m\u001b[1;32m     91\u001b[0m     \u001b[0;32massert\u001b[0m \u001b[0mmath\u001b[0m\u001b[0;34m.\u001b[0m\u001b[0misclose\u001b[0m\u001b[0;34m(\u001b[0m\u001b[0ms\u001b[0m\u001b[0;34m.\u001b[0m\u001b[0mcurrent_close\u001b[0m\u001b[0;34m,\u001b[0m \u001b[0;36m3.0\u001b[0m\u001b[0;34m)\u001b[0m\u001b[0;34m\u001b[0m\u001b[0;34m\u001b[0m\u001b[0m\n\u001b[1;32m     92\u001b[0m \u001b[0;34m\u001b[0m\u001b[0m\n",
            "\u001b[0;31mAssertionError\u001b[0m: 0.0 != 50.0"
          ]
        }
      ]
    },
    {
      "cell_type": "code",
      "metadata": {
        "id": "-2OMxaAOsHvq"
      },
      "source": [
        ""
      ],
      "id": "-2OMxaAOsHvq",
      "execution_count": null,
      "outputs": []
    }
  ]
}