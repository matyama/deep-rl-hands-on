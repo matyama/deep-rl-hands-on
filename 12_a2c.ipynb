{
 "cells": [
  {
   "cell_type": "markdown",
   "id": "connected-elizabeth",
   "metadata": {},
   "source": [
    "# The Actor-Critic Method\n",
    "<table align=\"left\">\n",
    "  <td>\n",
    "    <a target=\"_blank\" href=\"https://colab.research.google.com/github/matyama/deep-rl-hands-on/blob/main/12_a2c.ipynb\">\n",
    "    <img src=\"https://www.tensorflow.org/images/colab_logo_32px.png\" />\n",
    "        Run in Google Colab\n",
    "    </a>\n",
    "  </td>\n",
    "</table>"
   ]
  },
  {
   "cell_type": "markdown",
   "id": "collective-tourism",
   "metadata": {},
   "source": [
    "## Variance Reduction\n",
    "Let's start by recalling the policy gradient defined by the *Policy Gradients (PG)* method:\n",
    "$$\n",
    "\\nabla J \\approx \\mathbb{E}[Q(s, a) \\nabla \\log(\\pi(a|s))]\n",
    "$$\n",
    "\n",
    "One of the weak points of the PG method is that the gradient scales $Q(s, a)$ may experience quite significant variance* which does not help the training at all. We fixed this issue by introducing a fixed *baseline* value (e.g. mean reward) that was subtracted from the gradient scales Q.\n",
    "\n",
    "\\* Recall formal defintion: $\\mathbb{V}[X] = \\mathbb{E}[(X - \\mathbb{E}[X])^2]$\n",
    "\n",
    "Let's illustrate this problem and solution on simple example:\n",
    "* Assume there are three actions with $Q_1$, $Q_2$ some small positive values and $Q_3$ being large negative\n",
    "* In this case there will be small positive gradient towards fist two actions and large negative one repelling the policy from the third one\n",
    "* Now imagine $Q_1$ and $Q_2$ were large positive values instead. Then $Q_3$ would become small but positive value. The gradient would still push the policy towards fist two actions but it would direct the gradient towards the trird one a bit as well (instead of pushing it away from it)!\n",
    "\n",
    "Now it's a bit more clear why subtracting a constant value that we called the *baseline* helps."
   ]
  },
  {
   "cell_type": "code",
   "execution_count": null,
   "id": "boxed-cancer",
   "metadata": {},
   "outputs": [],
   "source": []
  }
 ],
 "metadata": {
  "kernelspec": {
   "display_name": "Python 3",
   "language": "python",
   "name": "python3"
  },
  "language_info": {
   "codemirror_mode": {
    "name": "ipython",
    "version": 3
   },
   "file_extension": ".py",
   "mimetype": "text/x-python",
   "name": "python",
   "nbconvert_exporter": "python",
   "pygments_lexer": "ipython3",
   "version": "3.8.5"
  }
 },
 "nbformat": 4,
 "nbformat_minor": 5
}
