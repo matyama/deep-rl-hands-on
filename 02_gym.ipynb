{
 "cells": [
  {
   "cell_type": "markdown",
   "id": "seventh-viewer",
   "metadata": {},
   "source": [
    "# OpenAI Gym"
   ]
  },
  {
   "cell_type": "markdown",
   "id": "environmental-angel",
   "metadata": {},
   "source": [
    "## Agent Anatomy"
   ]
  },
  {
   "cell_type": "code",
   "execution_count": 1,
   "id": "impaired-mystery",
   "metadata": {},
   "outputs": [
    {
     "name": "stdout",
     "output_type": "stream",
     "text": [
      "Episode: 1\tTotal reward: 5.2205\n",
      "Episode: 2\tTotal reward: 3.7717\n",
      "Episode: 3\tTotal reward: 4.3059\n",
      "Episode: 4\tTotal reward: 4.5668\n",
      "Episode: 5\tTotal reward: 3.6061\n"
     ]
    }
   ],
   "source": [
    "import random\n",
    "from typing import List\n",
    "\n",
    "\n",
    "class Environment:\n",
    "    \"\"\"\n",
    "    Dummy environment that returns random rewards.\n",
    "    \"\"\"\n",
    "\n",
    "    def __init__(self) -> None:\n",
    "        self.steps_left = 10\n",
    "\n",
    "    def get_observation(self) -> List[float]:\n",
    "        \"\"\"Get current observation from this environment\"\"\"\n",
    "        return [0.0] * 3\n",
    "\n",
    "    def get_actions(self) -> List[int]:\n",
    "        \"\"\"Return currenlty available actions\"\"\"\n",
    "        return [0, 1]\n",
    "\n",
    "    def is_done(self) -> bool:\n",
    "        \"\"\"Returns true when the game is done\"\"\"\n",
    "        return self.steps_left == 0\n",
    "\n",
    "    def action(self, action: int) -> float:\n",
    "        \"\"\"\n",
    "        Apply given action in this environment.\n",
    "        Returns random reward.\n",
    "        \"\"\"\n",
    "\n",
    "        # Panic if this method is called when the game is over\n",
    "        if self.is_done():\n",
    "            raise Exception(\"Game is over\")\n",
    "\n",
    "        # Record that a step has been made and return random reward\n",
    "        self.steps_left -= 1\n",
    "        return random.random()\n",
    "\n",
    "\n",
    "class Agent:\n",
    "    \"\"\"\n",
    "    Dummy agent that plays according to a random policy.\n",
    "    \"\"\"\n",
    "\n",
    "    def __init__(self) -> None:\n",
    "        self.total_reward = 0.0\n",
    "\n",
    "    def step(self, env: Environment) -> None:\n",
    "        \"\"\"\n",
    "        Make one policy step in given environment.\n",
    "        \"\"\"\n",
    "\n",
    "        # Get current observation from the environment\n",
    "        #  - Note: This agent actually ignores it.\n",
    "        _ = env.get_observation()\n",
    "\n",
    "        # Choose random action\n",
    "        action = random.choice(env.get_actions())\n",
    "\n",
    "        # Apply slected action in the environment and collect reward\n",
    "        reward = env.action(action)\n",
    "        self.total_reward += reward\n",
    "\n",
    "\n",
    "def run_episode(i: int) -> None:\n",
    "    # Create the environment and agent\n",
    "    env = Environment()\n",
    "    agent = Agent()\n",
    "\n",
    "    # Run the game until done\n",
    "    #  - i.e. run single episode\n",
    "    while not env.is_done():\n",
    "        agent.step(env)\n",
    "\n",
    "    # Show total reward for the episode\n",
    "    print(f\"Episode: {i + 1}\\tTotal reward: {agent.total_reward:.4f}\")\n",
    "\n",
    "\n",
    "# Run few episodes\n",
    "for i in range(5):\n",
    "    run_episode(i)"
   ]
  },
  {
   "cell_type": "code",
   "execution_count": null,
   "id": "developing-bridge",
   "metadata": {},
   "outputs": [],
   "source": []
  }
 ],
 "metadata": {
  "kernelspec": {
   "display_name": "Python 3",
   "language": "python",
   "name": "python3"
  },
  "language_info": {
   "codemirror_mode": {
    "name": "ipython",
    "version": 3
   },
   "file_extension": ".py",
   "mimetype": "text/x-python",
   "name": "python",
   "nbconvert_exporter": "python",
   "pygments_lexer": "ipython3",
   "version": "3.8.5"
  }
 },
 "nbformat": 4,
 "nbformat_minor": 5
}
