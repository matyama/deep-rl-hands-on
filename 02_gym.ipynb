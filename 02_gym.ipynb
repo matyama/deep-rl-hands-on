{
 "cells": [
  {
   "cell_type": "markdown",
   "id": "laden-burning",
   "metadata": {},
   "source": [
    "# OpenAI Gym"
   ]
  },
  {
   "cell_type": "markdown",
   "id": "union-office",
   "metadata": {},
   "source": [
    "## Agent Anatomy"
   ]
  },
  {
   "cell_type": "code",
   "execution_count": 1,
   "id": "combined-premiere",
   "metadata": {},
   "outputs": [
    {
     "name": "stdout",
     "output_type": "stream",
     "text": [
      "Episode: 1\tTotal reward: 4.9421\n",
      "Episode: 2\tTotal reward: 5.1507\n",
      "Episode: 3\tTotal reward: 5.9124\n",
      "Episode: 4\tTotal reward: 3.5335\n",
      "Episode: 5\tTotal reward: 4.2677\n"
     ]
    }
   ],
   "source": [
    "import random\n",
    "from typing import List\n",
    "\n",
    "\n",
    "class Environment:\n",
    "    \"\"\"\n",
    "    Dummy environment that returns random rewards.\n",
    "    \"\"\"\n",
    "\n",
    "    def __init__(self) -> None:\n",
    "        self.steps_left = 10\n",
    "\n",
    "    def get_observation(self) -> List[float]:\n",
    "        \"\"\"Get current observation from this environment\"\"\"\n",
    "        return [0.0] * 3\n",
    "\n",
    "    def get_actions(self) -> List[int]:\n",
    "        \"\"\"Return currenlty available actions\"\"\"\n",
    "        return [0, 1]\n",
    "\n",
    "    def is_done(self) -> bool:\n",
    "        \"\"\"Returns true when the game is done\"\"\"\n",
    "        return self.steps_left == 0\n",
    "\n",
    "    def action(self, action: int) -> float:\n",
    "        \"\"\"\n",
    "        Apply given action in this environment.\n",
    "        Returns random reward.\n",
    "        \"\"\"\n",
    "\n",
    "        # Panic if this method is called when the game is over\n",
    "        if self.is_done():\n",
    "            raise Exception(\"Game is over\")\n",
    "\n",
    "        # Record that a step has been made and return random reward\n",
    "        self.steps_left -= 1\n",
    "        return random.random()\n",
    "\n",
    "\n",
    "class Agent:\n",
    "    \"\"\"\n",
    "    Dummy agent that plays according to a random policy.\n",
    "    \"\"\"\n",
    "\n",
    "    def __init__(self) -> None:\n",
    "        self.total_reward = 0.0\n",
    "\n",
    "    def step(self, env: Environment) -> None:\n",
    "        \"\"\"\n",
    "        Make one policy step in given environment.\n",
    "        \"\"\"\n",
    "\n",
    "        # Get current observation from the environment\n",
    "        #  - Note: This agent actually ignores it.\n",
    "        _ = env.get_observation()\n",
    "\n",
    "        # Choose random action\n",
    "        action = random.choice(env.get_actions())\n",
    "\n",
    "        # Apply slected action in the environment and collect reward\n",
    "        reward = env.action(action)\n",
    "        self.total_reward += reward\n",
    "\n",
    "\n",
    "def run_episode(i: int) -> None:\n",
    "    # Create the environment and agent\n",
    "    env = Environment()\n",
    "    agent = Agent()\n",
    "\n",
    "    # Run the game until done\n",
    "    #  - i.e. run single episode\n",
    "    while not env.is_done():\n",
    "        agent.step(env)\n",
    "\n",
    "    # Show total reward for the episode\n",
    "    print(f\"Episode: {i + 1}\\tTotal reward: {agent.total_reward:.4f}\")\n",
    "\n",
    "\n",
    "# Run few episodes\n",
    "for i in range(5):\n",
    "    run_episode(i)"
   ]
  },
  {
   "cell_type": "markdown",
   "id": "satellite-shuttle",
   "metadata": {},
   "source": [
    "## Random CartPole Agent"
   ]
  },
  {
   "cell_type": "code",
   "execution_count": 2,
   "id": "grand-craps",
   "metadata": {},
   "outputs": [],
   "source": [
    "import gym  # noqa\n",
    "\n",
    "env = gym.make(\"CartPole-v0\")"
   ]
  },
  {
   "cell_type": "code",
   "execution_count": 3,
   "id": "effective-credit",
   "metadata": {},
   "outputs": [
    {
     "data": {
      "text/plain": [
       "Box(-3.4028234663852886e+38, 3.4028234663852886e+38, (4,), float32)"
      ]
     },
     "execution_count": 3,
     "metadata": {},
     "output_type": "execute_result"
    }
   ],
   "source": [
    "env.observation_space"
   ]
  },
  {
   "cell_type": "code",
   "execution_count": 4,
   "id": "incoming-neighborhood",
   "metadata": {},
   "outputs": [
    {
     "data": {
      "text/plain": [
       "Discrete(2)"
      ]
     },
     "execution_count": 4,
     "metadata": {},
     "output_type": "execute_result"
    }
   ],
   "source": [
    "env.action_space"
   ]
  },
  {
   "cell_type": "code",
   "execution_count": 5,
   "id": "unlikely-spirit",
   "metadata": {},
   "outputs": [
    {
     "data": {
      "text/plain": [
       "array([-0.04776663,  0.00067543, -0.01365968,  0.02324247])"
      ]
     },
     "execution_count": 5,
     "metadata": {},
     "output_type": "execute_result"
    }
   ],
   "source": [
    "env.reset()"
   ]
  },
  {
   "cell_type": "code",
   "execution_count": 6,
   "id": "leading-classification",
   "metadata": {},
   "outputs": [
    {
     "name": "stdout",
     "output_type": "stream",
     "text": [
      "Agent is not good enough: 21.72/195.0\n"
     ]
    }
   ],
   "source": [
    "import numpy as np  # noqa\n",
    "\n",
    "# Set RNG state\n",
    "env.seed(42)\n",
    "\n",
    "\n",
    "def run_cartpole_episode(env):\n",
    "    \"\"\"\n",
    "    Implements a CartPole agent with random policy.\n",
    "\n",
    "    :returns: total reward\n",
    "    \"\"\"\n",
    "    total_reward = 0.0\n",
    "\n",
    "    # Reset the environment and get initial observation\n",
    "    obs = env.reset()\n",
    "\n",
    "    # Interact with the environment until done\n",
    "    done = False\n",
    "    while not done:\n",
    "        # Sample an action\n",
    "        action = env.action_space.sample()\n",
    "\n",
    "        # Apply selected action in the environment\n",
    "        obs, reward, done, _ = env.step(action)\n",
    "\n",
    "        # Accumulate reward\n",
    "        total_reward += reward\n",
    "\n",
    "    return total_reward\n",
    "\n",
    "\n",
    "n_episodes = 100\n",
    "reward_boundary = 195\n",
    "\n",
    "# Compute mean reward over 100 episodes\n",
    "rewards = np.array([run_cartpole_episode(env) for _ in range(n_episodes)])\n",
    "reward_mean = rewards.mean()\n",
    "\n",
    "# Evaluate random policy for the CartPole environment\n",
    "if reward_mean >= reward_boundary:\n",
    "    print(f\"Agent is good enough: {reward_mean:.2f}/{reward_boundary:.1f}\")\n",
    "else:\n",
    "    print(f\"Agent is not good enough: {reward_mean:.2f}/{reward_boundary:.1f}\")"
   ]
  },
  {
   "cell_type": "code",
   "execution_count": null,
   "id": "signed-arabic",
   "metadata": {},
   "outputs": [],
   "source": []
  }
 ],
 "metadata": {
  "kernelspec": {
   "display_name": "Python 3",
   "language": "python",
   "name": "python3"
  },
  "language_info": {
   "codemirror_mode": {
    "name": "ipython",
    "version": 3
   },
   "file_extension": ".py",
   "mimetype": "text/x-python",
   "name": "python",
   "nbconvert_exporter": "python",
   "pygments_lexer": "ipython3",
   "version": "3.8.5"
  }
 },
 "nbformat": 4,
 "nbformat_minor": 5
}
