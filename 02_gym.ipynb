{
 "cells": [
  {
   "cell_type": "markdown",
   "id": "bacterial-heritage",
   "metadata": {},
   "source": [
    "# OpenAI Gym"
   ]
  },
  {
   "cell_type": "markdown",
   "id": "known-calculator",
   "metadata": {},
   "source": [
    "## Agent Anatomy"
   ]
  },
  {
   "cell_type": "code",
   "execution_count": 1,
   "id": "phantom-grain",
   "metadata": {},
   "outputs": [
    {
     "name": "stdout",
     "output_type": "stream",
     "text": [
      "Episode: 1\tTotal reward: 5.6444\n",
      "Episode: 2\tTotal reward: 4.3383\n",
      "Episode: 3\tTotal reward: 5.6232\n",
      "Episode: 4\tTotal reward: 3.4625\n",
      "Episode: 5\tTotal reward: 4.9504\n"
     ]
    }
   ],
   "source": [
    "import random\n",
    "from typing import List\n",
    "\n",
    "\n",
    "class Environment:\n",
    "    \"\"\"\n",
    "    Dummy environment that returns random rewards.\n",
    "    \"\"\"\n",
    "\n",
    "    def __init__(self) -> None:\n",
    "        self.steps_left = 10\n",
    "\n",
    "    def get_observation(self) -> List[float]:\n",
    "        \"\"\"Get current observation from this environment\"\"\"\n",
    "        return [0.0] * 3\n",
    "\n",
    "    def get_actions(self) -> List[int]:\n",
    "        \"\"\"Return currenlty available actions\"\"\"\n",
    "        return [0, 1]\n",
    "\n",
    "    def is_done(self) -> bool:\n",
    "        \"\"\"Returns true when the game is done\"\"\"\n",
    "        return self.steps_left == 0\n",
    "\n",
    "    def action(self, action: int) -> float:\n",
    "        \"\"\"\n",
    "        Apply given action in this environment.\n",
    "        Returns random reward.\n",
    "        \"\"\"\n",
    "\n",
    "        # Panic if this method is called when the game is over\n",
    "        if self.is_done():\n",
    "            raise Exception(\"Game is over\")\n",
    "\n",
    "        # Record that a step has been made and return random reward\n",
    "        self.steps_left -= 1\n",
    "        return random.random()\n",
    "\n",
    "\n",
    "class Agent:\n",
    "    \"\"\"\n",
    "    Dummy agent that plays according to a random policy.\n",
    "    \"\"\"\n",
    "\n",
    "    def __init__(self) -> None:\n",
    "        self.total_reward = 0.0\n",
    "\n",
    "    def step(self, env: Environment) -> None:\n",
    "        \"\"\"\n",
    "        Make one policy step in given environment.\n",
    "        \"\"\"\n",
    "\n",
    "        # Get current observation from the environment\n",
    "        #  - Note: This agent actually ignores it.\n",
    "        _ = env.get_observation()\n",
    "\n",
    "        # Choose random action\n",
    "        action = random.choice(env.get_actions())\n",
    "\n",
    "        # Apply slected action in the environment and collect reward\n",
    "        reward = env.action(action)\n",
    "        self.total_reward += reward\n",
    "\n",
    "\n",
    "def run_episode(i: int) -> None:\n",
    "    # Create the environment and agent\n",
    "    env = Environment()\n",
    "    agent = Agent()\n",
    "\n",
    "    # Run the game until done\n",
    "    #  - i.e. run single episode\n",
    "    while not env.is_done():\n",
    "        agent.step(env)\n",
    "\n",
    "    # Show total reward for the episode\n",
    "    print(f\"Episode: {i + 1}\\tTotal reward: {agent.total_reward:.4f}\")\n",
    "\n",
    "\n",
    "# Run few episodes\n",
    "for i in range(5):\n",
    "    run_episode(i)"
   ]
  },
  {
   "cell_type": "markdown",
   "id": "intense-mixture",
   "metadata": {},
   "source": [
    "## Random CartPole Agent"
   ]
  },
  {
   "cell_type": "code",
   "execution_count": 2,
   "id": "boxed-engine",
   "metadata": {},
   "outputs": [],
   "source": [
    "import gym  # noqa\n",
    "\n",
    "env = gym.make(\"CartPole-v0\")"
   ]
  },
  {
   "cell_type": "code",
   "execution_count": 3,
   "id": "described-youth",
   "metadata": {},
   "outputs": [
    {
     "data": {
      "text/plain": [
       "Box(-3.4028234663852886e+38, 3.4028234663852886e+38, (4,), float32)"
      ]
     },
     "execution_count": 3,
     "metadata": {},
     "output_type": "execute_result"
    }
   ],
   "source": [
    "env.observation_space"
   ]
  },
  {
   "cell_type": "code",
   "execution_count": 4,
   "id": "affected-variation",
   "metadata": {},
   "outputs": [
    {
     "data": {
      "text/plain": [
       "Discrete(2)"
      ]
     },
     "execution_count": 4,
     "metadata": {},
     "output_type": "execute_result"
    }
   ],
   "source": [
    "env.action_space"
   ]
  },
  {
   "cell_type": "code",
   "execution_count": 5,
   "id": "strange-least",
   "metadata": {},
   "outputs": [
    {
     "data": {
      "text/plain": [
       "array([0.00777905, 0.01561849, 0.02360984, 0.02817653])"
      ]
     },
     "execution_count": 5,
     "metadata": {},
     "output_type": "execute_result"
    }
   ],
   "source": [
    "env.reset()"
   ]
  },
  {
   "cell_type": "code",
   "execution_count": 6,
   "id": "successful-carrier",
   "metadata": {},
   "outputs": [
    {
     "name": "stdout",
     "output_type": "stream",
     "text": [
      "Agent is not good enough: 20.86/195.0\n"
     ]
    }
   ],
   "source": [
    "import numpy as np  # noqa\n",
    "\n",
    "\n",
    "def run_cartpole_episode(env: gym.Env) -> float:\n",
    "    \"\"\"\n",
    "    Implements a CartPole agent with random policy.\n",
    "\n",
    "    :returns: total reward\n",
    "    \"\"\"\n",
    "    total_reward = 0.0\n",
    "\n",
    "    # Reset the environment and get initial observation\n",
    "    obs = env.reset()\n",
    "\n",
    "    # Interact with the environment until done\n",
    "    done = False\n",
    "    while not done:\n",
    "        # Sample an action\n",
    "        action = env.action_space.sample()\n",
    "\n",
    "        # Apply selected action in the environment\n",
    "        obs, reward, done, _ = env.step(action)\n",
    "\n",
    "        # Accumulate reward\n",
    "        total_reward += reward\n",
    "\n",
    "    return total_reward\n",
    "\n",
    "\n",
    "n_episodes = 100\n",
    "reward_boundary = 195\n",
    "\n",
    "# Compute mean reward over 100 episodes\n",
    "rewards = np.array([run_cartpole_episode(env) for _ in range(n_episodes)])\n",
    "reward_mean = rewards.mean()\n",
    "\n",
    "# Evaluate random policy for the CartPole environment\n",
    "if reward_mean >= reward_boundary:\n",
    "    print(f\"Agent is good enough: {reward_mean:.2f}/{reward_boundary:.1f}\")\n",
    "else:\n",
    "    print(f\"Agent is not good enough: {reward_mean:.2f}/{reward_boundary:.1f}\")"
   ]
  },
  {
   "cell_type": "markdown",
   "id": "atomic-bubble",
   "metadata": {},
   "source": [
    "## Environment Wrappers\n",
    "Let's create an example of an environment wrapper which will play a random action with some probability instead of given one."
   ]
  },
  {
   "cell_type": "code",
   "execution_count": 7,
   "id": "korean-monitoring",
   "metadata": {},
   "outputs": [
    {
     "name": "stdout",
     "output_type": "stream",
     "text": [
      "Agent is not good enough: 9.89/195.0\n",
      "Mean exploration: 1.14\n"
     ]
    }
   ],
   "source": [
    "from typing import TypeVar  # noqa\n",
    "\n",
    "A = TypeVar(\"A\")\n",
    "\n",
    "\n",
    "class RandomActionWrapper(gym.ActionWrapper):\n",
    "    def __init__(self, env: gym.Env, epsilon: float = 0.1) -> None:\n",
    "        super().__init__(env)\n",
    "        self.epsilon = epsilon\n",
    "        self.n_random_actions = 0\n",
    "\n",
    "    def action(self, action: A) -> A:\n",
    "        if random.random() < self.epsilon:\n",
    "            self.n_random_actions += 1\n",
    "            # Apply random action with epsilon probability\n",
    "            return self.env.action_space.sample()\n",
    "\n",
    "        return action\n",
    "\n",
    "\n",
    "# Setup wrapped CartPole environment\n",
    "env = RandomActionWrapper(gym.make(\"CartPole-v0\"))\n",
    "\n",
    "\n",
    "def run_cartpole_episode(env: RandomActionWrapper) -> float:\n",
    "    total_reward = 0.0\n",
    "\n",
    "    # Reset the environment and get initial observation\n",
    "    obs = env.reset()\n",
    "\n",
    "    # Interact with the environment until done\n",
    "    done = False\n",
    "    while not done:\n",
    "        # Apply one of the actions and let the env. wrapper sample the other\n",
    "        obs, reward, done, _ = env.step(0)\n",
    "\n",
    "        # Accumulate reward\n",
    "        total_reward += reward\n",
    "\n",
    "    return total_reward\n",
    "\n",
    "\n",
    "# Compute mean reward over 100 episodes\n",
    "rewards = np.array([run_cartpole_episode(env) for _ in range(n_episodes)])\n",
    "reward_mean = rewards.mean()\n",
    "\n",
    "# Evaluate random policy for the CartPole environment\n",
    "if reward_mean >= reward_boundary:\n",
    "    print(f\"Agent is good enough: {reward_mean:.2f}/{reward_boundary:.1f}\")\n",
    "else:\n",
    "    print(f\"Agent is not good enough: {reward_mean:.2f}/{reward_boundary:.1f}\")\n",
    "\n",
    "print(\"Mean exploration:\", env.n_random_actions / n_episodes)"
   ]
  },
  {
   "cell_type": "markdown",
   "id": "african-north",
   "metadata": {},
   "source": [
    "## Environment Monitor\n",
    "There's a special environment wrapper called `Monitor` which can record the environment as a video and store it to a directory. Note that it requires an access to X11 - to make this working one can run the python program with\n",
    "```bash\n",
    "xvfb-run -s \"-screen 0 640x480x24\" python run.py\n",
    "```\n",
    "or via ssh with `ssh -X` option."
   ]
  },
  {
   "cell_type": "code",
   "execution_count": 8,
   "id": "urban-investigator",
   "metadata": {},
   "outputs": [],
   "source": [
    "# Crate CartPole environment and wrap it into a Monitor\n",
    "#   - Note: Video will be stored in 'recording/' per episode\n",
    "env = gym.wrappers.Monitor(\n",
    "    env=gym.make(\"CartPole-v0\"),\n",
    "    directory=\"recording\",\n",
    "    video_callable=lambda episode_id: True,\n",
    "    force=True,\n",
    ")\n",
    "\n",
    "\n",
    "def run_cartpole_episode(env: gym.wrappers.Monitor) -> None:\n",
    "    _ = env.reset()\n",
    "    done = False\n",
    "    while not done:\n",
    "        action = env.action_space.sample()\n",
    "        _, _, done, _ = env.step(action)\n",
    "\n",
    "\n",
    "# Run 5 episodes in our monitored environment\n",
    "for _ in range(5):\n",
    "    run_cartpole_episode(env)\n",
    "\n",
    "# Terminate the monitor and environment\n",
    "env.close()\n",
    "env.env.close()"
   ]
  },
  {
   "cell_type": "code",
   "execution_count": 9,
   "id": "talented-singapore",
   "metadata": {},
   "outputs": [
    {
     "name": "stdout",
     "output_type": "stream",
     "text": [
      "\u001b[01;34mrecording/\u001b[00m\n",
      "├── openaigym.episode_batch.0.1180449.stats.json\n",
      "├── openaigym.manifest.0.1180449.manifest.json\n",
      "├── openaigym.video.0.1180449.video000000.meta.json\n",
      "├── \u001b[01;35mopenaigym.video.0.1180449.video000000.mp4\u001b[00m\n",
      "├── openaigym.video.0.1180449.video000001.meta.json\n",
      "├── \u001b[01;35mopenaigym.video.0.1180449.video000001.mp4\u001b[00m\n",
      "├── openaigym.video.0.1180449.video000002.meta.json\n",
      "├── \u001b[01;35mopenaigym.video.0.1180449.video000002.mp4\u001b[00m\n",
      "├── openaigym.video.0.1180449.video000003.meta.json\n",
      "├── \u001b[01;35mopenaigym.video.0.1180449.video000003.mp4\u001b[00m\n",
      "├── openaigym.video.0.1180449.video000004.meta.json\n",
      "└── \u001b[01;35mopenaigym.video.0.1180449.video000004.mp4\u001b[00m\n",
      "\n",
      "0 directories, 12 files\n"
     ]
    }
   ],
   "source": [
    "!tree recording/"
   ]
  },
  {
   "cell_type": "code",
   "execution_count": null,
   "id": "reported-bride",
   "metadata": {},
   "outputs": [],
   "source": []
  }
 ],
 "metadata": {
  "kernelspec": {
   "display_name": "Python 3",
   "language": "python",
   "name": "python3"
  },
  "language_info": {
   "codemirror_mode": {
    "name": "ipython",
    "version": 3
   },
   "file_extension": ".py",
   "mimetype": "text/x-python",
   "name": "python",
   "nbconvert_exporter": "python",
   "pygments_lexer": "ipython3",
   "version": "3.8.5"
  }
 },
 "nbformat": 4,
 "nbformat_minor": 5
}
