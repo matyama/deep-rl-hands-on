{
 "cells": [
  {
   "cell_type": "markdown",
   "id": "refined-anchor",
   "metadata": {},
   "source": [
    "# OpenAI Gym"
   ]
  },
  {
   "cell_type": "markdown",
   "id": "downtown-criminal",
   "metadata": {},
   "source": [
    "## Agent Anatomy"
   ]
  },
  {
   "cell_type": "code",
   "execution_count": 1,
   "id": "scheduled-arkansas",
   "metadata": {},
   "outputs": [
    {
     "name": "stdout",
     "output_type": "stream",
     "text": [
      "Episode: 1\tTotal reward: 3.4331\n",
      "Episode: 2\tTotal reward: 5.8860\n",
      "Episode: 3\tTotal reward: 5.2568\n",
      "Episode: 4\tTotal reward: 6.2474\n",
      "Episode: 5\tTotal reward: 6.5748\n"
     ]
    }
   ],
   "source": [
    "import random\n",
    "from typing import List\n",
    "\n",
    "\n",
    "class Environment:\n",
    "    \"\"\"\n",
    "    Dummy environment that returns random rewards.\n",
    "    \"\"\"\n",
    "\n",
    "    def __init__(self) -> None:\n",
    "        self.steps_left = 10\n",
    "\n",
    "    def get_observation(self) -> List[float]:\n",
    "        \"\"\"Get current observation from this environment\"\"\"\n",
    "        return [0.0] * 3\n",
    "\n",
    "    def get_actions(self) -> List[int]:\n",
    "        \"\"\"Return currenlty available actions\"\"\"\n",
    "        return [0, 1]\n",
    "\n",
    "    def is_done(self) -> bool:\n",
    "        \"\"\"Returns true when the game is done\"\"\"\n",
    "        return self.steps_left == 0\n",
    "\n",
    "    def action(self, action: int) -> float:\n",
    "        \"\"\"\n",
    "        Apply given action in this environment.\n",
    "        Returns random reward.\n",
    "        \"\"\"\n",
    "\n",
    "        # Panic if this method is called when the game is over\n",
    "        if self.is_done():\n",
    "            raise Exception(\"Game is over\")\n",
    "\n",
    "        # Record that a step has been made and return random reward\n",
    "        self.steps_left -= 1\n",
    "        return random.random()\n",
    "\n",
    "\n",
    "class Agent:\n",
    "    \"\"\"\n",
    "    Dummy agent that plays according to a random policy.\n",
    "    \"\"\"\n",
    "\n",
    "    def __init__(self) -> None:\n",
    "        self.total_reward = 0.0\n",
    "\n",
    "    def step(self, env: Environment) -> None:\n",
    "        \"\"\"\n",
    "        Make one policy step in given environment.\n",
    "        \"\"\"\n",
    "\n",
    "        # Get current observation from the environment\n",
    "        #  - Note: This agent actually ignores it.\n",
    "        _ = env.get_observation()\n",
    "\n",
    "        # Choose random action\n",
    "        action = random.choice(env.get_actions())\n",
    "\n",
    "        # Apply slected action in the environment and collect reward\n",
    "        reward = env.action(action)\n",
    "        self.total_reward += reward\n",
    "\n",
    "\n",
    "def run_episode(i: int) -> None:\n",
    "    # Create the environment and agent\n",
    "    env = Environment()\n",
    "    agent = Agent()\n",
    "\n",
    "    # Run the game until done\n",
    "    #  - i.e. run single episode\n",
    "    while not env.is_done():\n",
    "        agent.step(env)\n",
    "\n",
    "    # Show total reward for the episode\n",
    "    print(f\"Episode: {i + 1}\\tTotal reward: {agent.total_reward:.4f}\")\n",
    "\n",
    "\n",
    "# Run few episodes\n",
    "for i in range(5):\n",
    "    run_episode(i)"
   ]
  },
  {
   "cell_type": "markdown",
   "id": "american-tower",
   "metadata": {},
   "source": [
    "## Random CartPole Agent"
   ]
  },
  {
   "cell_type": "code",
   "execution_count": 2,
   "id": "decimal-nitrogen",
   "metadata": {},
   "outputs": [],
   "source": [
    "import gym  # noqa\n",
    "\n",
    "env = gym.make(\"CartPole-v0\")"
   ]
  },
  {
   "cell_type": "code",
   "execution_count": 3,
   "id": "worthy-monitoring",
   "metadata": {},
   "outputs": [
    {
     "data": {
      "text/plain": [
       "Box(-3.4028234663852886e+38, 3.4028234663852886e+38, (4,), float32)"
      ]
     },
     "execution_count": 3,
     "metadata": {},
     "output_type": "execute_result"
    }
   ],
   "source": [
    "env.observation_space"
   ]
  },
  {
   "cell_type": "code",
   "execution_count": 4,
   "id": "regular-admission",
   "metadata": {},
   "outputs": [
    {
     "data": {
      "text/plain": [
       "Discrete(2)"
      ]
     },
     "execution_count": 4,
     "metadata": {},
     "output_type": "execute_result"
    }
   ],
   "source": [
    "env.action_space"
   ]
  },
  {
   "cell_type": "code",
   "execution_count": 5,
   "id": "distributed-funeral",
   "metadata": {},
   "outputs": [
    {
     "data": {
      "text/plain": [
       "array([-0.03077529,  0.0259585 , -0.02115803,  0.04723072])"
      ]
     },
     "execution_count": 5,
     "metadata": {},
     "output_type": "execute_result"
    }
   ],
   "source": [
    "env.reset()"
   ]
  },
  {
   "cell_type": "code",
   "execution_count": 6,
   "id": "empty-sleeping",
   "metadata": {},
   "outputs": [
    {
     "name": "stdout",
     "output_type": "stream",
     "text": [
      "Agent is not good enough: 24.99/195.0\n"
     ]
    }
   ],
   "source": [
    "import numpy as np  # noqa\n",
    "\n",
    "\n",
    "def run_cartpole_episode(env: gym.Env) -> float:\n",
    "    \"\"\"\n",
    "    Implements a CartPole agent with random policy.\n",
    "\n",
    "    :returns: total reward\n",
    "    \"\"\"\n",
    "    total_reward = 0.0\n",
    "\n",
    "    # Reset the environment and get initial observation\n",
    "    obs = env.reset()\n",
    "\n",
    "    # Interact with the environment until done\n",
    "    done = False\n",
    "    while not done:\n",
    "        # Sample an action\n",
    "        action = env.action_space.sample()\n",
    "\n",
    "        # Apply selected action in the environment\n",
    "        obs, reward, done, _ = env.step(action)\n",
    "\n",
    "        # Accumulate reward\n",
    "        total_reward += reward\n",
    "\n",
    "    return total_reward\n",
    "\n",
    "\n",
    "n_episodes = 100\n",
    "reward_boundary = 195\n",
    "\n",
    "# Compute mean reward over 100 episodes\n",
    "rewards = np.array([run_cartpole_episode(env) for _ in range(n_episodes)])\n",
    "reward_mean = rewards.mean()\n",
    "\n",
    "# Evaluate random policy for the CartPole environment\n",
    "if reward_mean >= reward_boundary:\n",
    "    print(f\"Agent is good enough: {reward_mean:.2f}/{reward_boundary:.1f}\")\n",
    "else:\n",
    "    print(f\"Agent is not good enough: {reward_mean:.2f}/{reward_boundary:.1f}\")"
   ]
  },
  {
   "cell_type": "markdown",
   "id": "placed-abortion",
   "metadata": {},
   "source": [
    "## Environment Wrappers\n",
    "Let's create an example of an environment wrapper which will play a random action with some probability instead of given one."
   ]
  },
  {
   "cell_type": "code",
   "execution_count": 7,
   "id": "worst-details",
   "metadata": {},
   "outputs": [
    {
     "name": "stdout",
     "output_type": "stream",
     "text": [
      "Agent is not good enough: 10.03/195.0\n",
      "Mean exploration: 1.05\n"
     ]
    }
   ],
   "source": [
    "from typing import TypeVar  # noqa\n",
    "\n",
    "A = TypeVar(\"A\")\n",
    "\n",
    "\n",
    "class RandomActionWrapper(gym.ActionWrapper):\n",
    "    def __init__(self, env: gym.Env, epsilon: float = 0.1) -> None:\n",
    "        super().__init__(env)\n",
    "        self.epsilon = epsilon\n",
    "        self.n_random_actions = 0\n",
    "\n",
    "    def action(self, action: A) -> A:\n",
    "        if random.random() < self.epsilon:\n",
    "            self.n_random_actions += 1\n",
    "            # Apply random action with epsilon probability\n",
    "            return self.env.action_space.sample()\n",
    "\n",
    "        return action\n",
    "\n",
    "\n",
    "# Setup wrapped CartPole environment\n",
    "env = RandomActionWrapper(gym.make(\"CartPole-v0\"))\n",
    "\n",
    "\n",
    "def run_cartpole_episode(env: RandomActionWrapper) -> float:\n",
    "    total_reward = 0.0\n",
    "\n",
    "    # Reset the environment and get initial observation\n",
    "    obs = env.reset()\n",
    "\n",
    "    # Interact with the environment until done\n",
    "    done = False\n",
    "    while not done:\n",
    "        # Apply one of the actions and let the env. wrapper sample the other\n",
    "        obs, reward, done, _ = env.step(0)\n",
    "\n",
    "        # Accumulate reward\n",
    "        total_reward += reward\n",
    "\n",
    "    return total_reward\n",
    "\n",
    "\n",
    "# Compute mean reward over 100 episodes\n",
    "rewards = np.array([run_cartpole_episode(env) for _ in range(n_episodes)])\n",
    "reward_mean = rewards.mean()\n",
    "\n",
    "# Evaluate random policy for the CartPole environment\n",
    "if reward_mean >= reward_boundary:\n",
    "    print(f\"Agent is good enough: {reward_mean:.2f}/{reward_boundary:.1f}\")\n",
    "else:\n",
    "    print(f\"Agent is not good enough: {reward_mean:.2f}/{reward_boundary:.1f}\")\n",
    "\n",
    "print(\"Mean exploration:\", env.n_random_actions / n_episodes)"
   ]
  },
  {
   "cell_type": "code",
   "execution_count": null,
   "id": "exciting-boutique",
   "metadata": {},
   "outputs": [],
   "source": []
  }
 ],
 "metadata": {
  "kernelspec": {
   "display_name": "Python 3",
   "language": "python",
   "name": "python3"
  },
  "language_info": {
   "codemirror_mode": {
    "name": "ipython",
    "version": 3
   },
   "file_extension": ".py",
   "mimetype": "text/x-python",
   "name": "python",
   "nbconvert_exporter": "python",
   "pygments_lexer": "ipython3",
   "version": "3.8.5"
  }
 },
 "nbformat": 4,
 "nbformat_minor": 5
}
